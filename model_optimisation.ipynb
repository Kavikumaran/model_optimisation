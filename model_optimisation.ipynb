{
 "cells": [
  {
   "cell_type": "markdown",
   "metadata": {
    "application/vnd.databricks.v1+cell": {
     "cellMetadata": {},
     "inputWidgets": {},
     "nuid": "b93a9b08-bbc5-4051-ac12-34c3d1985417",
     "showTitle": false,
     "tableResultSettingsMap": {},
     "title": ""
    }
   },
   "source": [
    "### Install and Import necessary packages"
   ]
  },
  {
   "cell_type": "code",
   "execution_count": 0,
   "metadata": {
    "application/vnd.databricks.v1+cell": {
     "cellMetadata": {
      "byteLimit": 2048000,
      "rowLimit": 10000
     },
     "inputWidgets": {},
     "nuid": "c5f2eb7e-4a26-4312-b419-617c6e933d8f",
     "showTitle": false,
     "tableResultSettingsMap": {},
     "title": ""
    }
   },
   "outputs": [
    {
     "output_type": "stream",
     "name": "stdout",
     "output_type": "stream",
     "text": [
      "Python interpreter will be restarted.\nCollecting ucimlrepo\n  Using cached ucimlrepo-0.0.7-py3-none-any.whl (8.0 kB)\nRequirement already satisfied: pandas>=1.0.0 in /databricks/python3/lib/python3.9/site-packages (from ucimlrepo) (1.4.2)\nRequirement already satisfied: certifi>=2020.12.5 in /databricks/python3/lib/python3.9/site-packages (from ucimlrepo) (2021.10.8)\nRequirement already satisfied: python-dateutil>=2.8.1 in /databricks/python3/lib/python3.9/site-packages (from pandas>=1.0.0->ucimlrepo) (2.8.2)\nRequirement already satisfied: numpy>=1.18.5 in /databricks/python3/lib/python3.9/site-packages (from pandas>=1.0.0->ucimlrepo) (1.21.5)\nRequirement already satisfied: pytz>=2020.1 in /databricks/python3/lib/python3.9/site-packages (from pandas>=1.0.0->ucimlrepo) (2021.3)\nRequirement already satisfied: six>=1.5 in /databricks/python3/lib/python3.9/site-packages (from python-dateutil>=2.8.1->pandas>=1.0.0->ucimlrepo) (1.16.0)\nInstalling collected packages: ucimlrepo\nSuccessfully installed ucimlrepo-0.0.7\nPython interpreter will be restarted.\n"
     ]
    }
   ],
   "source": [
    "pip install ucimlrepo"
   ]
  },
  {
   "cell_type": "code",
   "execution_count": 0,
   "metadata": {
    "application/vnd.databricks.v1+cell": {
     "cellMetadata": {
      "byteLimit": 2048000,
      "rowLimit": 10000
     },
     "inputWidgets": {},
     "nuid": "4b2b139a-80cc-4a1a-afc5-3126228f1e06",
     "showTitle": false,
     "tableResultSettingsMap": {},
     "title": ""
    }
   },
   "outputs": [
    {
     "output_type": "stream",
     "name": "stdout",
     "output_type": "stream",
     "text": [
      "Python interpreter will be restarted.\nCollecting lightgbm\n  Using cached lightgbm-4.5.0-py3-none-manylinux_2_28_x86_64.whl (3.6 MB)\nRequirement already satisfied: scipy in /databricks/python3/lib/python3.9/site-packages (from lightgbm) (1.7.3)\nRequirement already satisfied: numpy>=1.17.0 in /databricks/python3/lib/python3.9/site-packages (from lightgbm) (1.21.5)\nInstalling collected packages: lightgbm\nSuccessfully installed lightgbm-4.5.0\nPython interpreter will be restarted.\n"
     ]
    }
   ],
   "source": [
    "pip install lightgbm"
   ]
  },
  {
   "cell_type": "code",
   "execution_count": 0,
   "metadata": {
    "application/vnd.databricks.v1+cell": {
     "cellMetadata": {
      "byteLimit": 2048000,
      "rowLimit": 10000
     },
     "inputWidgets": {},
     "nuid": "562b2c9b-1b98-458f-8330-7a24aff06fac",
     "showTitle": false,
     "tableResultSettingsMap": {},
     "title": ""
    }
   },
   "outputs": [
    {
     "output_type": "stream",
     "name": "stdout",
     "output_type": "stream",
     "text": [
      "Python interpreter will be restarted.\nCollecting ctgan\n  Using cached ctgan-0.10.2-py3-none-any.whl (23 kB)\nCollecting rdt>=1.11.0\n  Using cached rdt-1.13.2-py3-none-any.whl (66 kB)\nCollecting tqdm<5,>=4.29\n  Using cached tqdm-4.67.1-py3-none-any.whl (78 kB)\nRequirement already satisfied: numpy>=1.21.0 in /databricks/python3/lib/python3.9/site-packages (from ctgan) (1.21.5)\nRequirement already satisfied: pandas>=1.4.0 in /databricks/python3/lib/python3.9/site-packages (from ctgan) (1.4.2)\nCollecting torch>=1.9.0\n  Using cached torch-2.5.1-cp39-cp39-manylinux1_x86_64.whl (906.5 MB)\nRequirement already satisfied: python-dateutil>=2.8.1 in /databricks/python3/lib/python3.9/site-packages (from pandas>=1.4.0->ctgan) (2.8.2)\nRequirement already satisfied: pytz>=2020.1 in /databricks/python3/lib/python3.9/site-packages (from pandas>=1.4.0->ctgan) (2021.3)\nRequirement already satisfied: six>=1.5 in /databricks/python3/lib/python3.9/site-packages (from python-dateutil>=2.8.1->pandas>=1.4.0->ctgan) (1.16.0)\nCollecting Faker>=17\n  Using cached Faker-33.3.1-py3-none-any.whl (1.9 MB)\nRequirement already satisfied: scipy>=1.7.3 in /databricks/python3/lib/python3.9/site-packages (from rdt>=1.11.0->ctgan) (1.7.3)\nRequirement already satisfied: scikit-learn>=1.0.2 in /databricks/python3/lib/python3.9/site-packages (from rdt>=1.11.0->ctgan) (1.0.2)\nRequirement already satisfied: typing-extensions in /databricks/python3/lib/python3.9/site-packages (from Faker>=17->rdt>=1.11.0->ctgan) (4.1.1)\nRequirement already satisfied: joblib>=0.11 in /databricks/python3/lib/python3.9/site-packages (from scikit-learn>=1.0.2->rdt>=1.11.0->ctgan) (1.1.1)\nRequirement already satisfied: threadpoolctl>=2.0.0 in /databricks/python3/lib/python3.9/site-packages (from scikit-learn>=1.0.2->rdt>=1.11.0->ctgan) (2.2.0)\nCollecting triton==3.1.0\n  Using cached triton-3.1.0-cp39-cp39-manylinux_2_17_x86_64.manylinux2014_x86_64.whl (209.5 MB)\nCollecting nvidia-nvtx-cu12==12.4.127\n  Using cached nvidia_nvtx_cu12-12.4.127-py3-none-manylinux2014_x86_64.whl (99 kB)\nCollecting networkx\n  Using cached networkx-3.2.1-py3-none-any.whl (1.6 MB)\nCollecting nvidia-curand-cu12==10.3.5.147\n  Using cached nvidia_curand_cu12-10.3.5.147-py3-none-manylinux2014_x86_64.whl (56.3 MB)\nCollecting nvidia-cublas-cu12==12.4.5.8\n  Using cached nvidia_cublas_cu12-12.4.5.8-py3-none-manylinux2014_x86_64.whl (363.4 MB)\nCollecting nvidia-nccl-cu12==2.21.5\n  Using cached nvidia_nccl_cu12-2.21.5-py3-none-manylinux2014_x86_64.whl (188.7 MB)\nCollecting nvidia-cuda-cupti-cu12==12.4.127\n  Using cached nvidia_cuda_cupti_cu12-12.4.127-py3-none-manylinux2014_x86_64.whl (13.8 MB)\nRequirement already satisfied: filelock in /usr/local/lib/python3.9/dist-packages (from torch>=1.9.0->ctgan) (3.9.0)\nCollecting nvidia-cufft-cu12==11.2.1.3\n  Using cached nvidia_cufft_cu12-11.2.1.3-py3-none-manylinux2014_x86_64.whl (211.5 MB)\nCollecting nvidia-cusparse-cu12==12.3.1.170\n  Using cached nvidia_cusparse_cu12-12.3.1.170-py3-none-manylinux2014_x86_64.whl (207.5 MB)\nCollecting fsspec\n  Using cached fsspec-2024.12.0-py3-none-any.whl (183 kB)\nCollecting nvidia-cusolver-cu12==11.6.1.9\n  Using cached nvidia_cusolver_cu12-11.6.1.9-py3-none-manylinux2014_x86_64.whl (127.9 MB)\nCollecting nvidia-cuda-nvrtc-cu12==12.4.127\n  Using cached nvidia_cuda_nvrtc_cu12-12.4.127-py3-none-manylinux2014_x86_64.whl (24.6 MB)\nCollecting nvidia-cuda-runtime-cu12==12.4.127\n  Using cached nvidia_cuda_runtime_cu12-12.4.127-py3-none-manylinux2014_x86_64.whl (883 kB)\nCollecting nvidia-nvjitlink-cu12==12.4.127\n  Using cached nvidia_nvjitlink_cu12-12.4.127-py3-none-manylinux2014_x86_64.whl (21.1 MB)\nCollecting sympy==1.13.1\n  Using cached sympy-1.13.1-py3-none-any.whl (6.2 MB)\nCollecting typing-extensions\n  Using cached typing_extensions-4.12.2-py3-none-any.whl (37 kB)\nRequirement already satisfied: jinja2 in /databricks/python3/lib/python3.9/site-packages (from torch>=1.9.0->ctgan) (2.11.3)\nCollecting nvidia-cudnn-cu12==9.1.0.70\n  Using cached nvidia_cudnn_cu12-9.1.0.70-py3-none-manylinux2014_x86_64.whl (664.8 MB)\nCollecting mpmath<1.4,>=1.1.0\n  Using cached mpmath-1.3.0-py3-none-any.whl (536 kB)\nRequirement already satisfied: MarkupSafe>=0.23 in /databricks/python3/lib/python3.9/site-packages (from jinja2->torch>=1.9.0->ctgan) (2.0.1)\nInstalling collected packages: nvidia-nvjitlink-cu12, typing-extensions, nvidia-cusparse-cu12, nvidia-cublas-cu12, mpmath, triton, sympy, nvidia-nvtx-cu12, nvidia-nccl-cu12, nvidia-cusolver-cu12, nvidia-curand-cu12, nvidia-cufft-cu12, nvidia-cudnn-cu12, nvidia-cuda-runtime-cu12, nvidia-cuda-nvrtc-cu12, nvidia-cuda-cupti-cu12, networkx, fsspec, Faker, tqdm, torch, rdt, ctgan\n  Attempting uninstall: typing-extensions\n    Found existing installation: typing-extensions 4.1.1\n    Not uninstalling typing-extensions at /databricks/python3/lib/python3.9/site-packages, outside environment /local_disk0/.ephemeral_nfs/envs/pythonEnv-96f50c8f-5d3b-4543-8769-58fa2a0f27b3\n    Can't uninstall 'typing-extensions'. No files were found to uninstall.\nSuccessfully installed Faker-33.3.1 ctgan-0.10.2 fsspec-2024.12.0 mpmath-1.3.0 networkx-3.2.1 nvidia-cublas-cu12-12.4.5.8 nvidia-cuda-cupti-cu12-12.4.127 nvidia-cuda-nvrtc-cu12-12.4.127 nvidia-cuda-runtime-cu12-12.4.127 nvidia-cudnn-cu12-9.1.0.70 nvidia-cufft-cu12-11.2.1.3 nvidia-curand-cu12-10.3.5.147 nvidia-cusolver-cu12-11.6.1.9 nvidia-cusparse-cu12-12.3.1.170 nvidia-nccl-cu12-2.21.5 nvidia-nvjitlink-cu12-12.4.127 nvidia-nvtx-cu12-12.4.127 rdt-1.13.2 sympy-1.13.1 torch-2.5.1 tqdm-4.67.1 triton-3.1.0 typing-extensions-4.12.2\nPython interpreter will be restarted.\n"
     ]
    }
   ],
   "source": [
    "pip install ctgan"
   ]
  },
  {
   "cell_type": "code",
   "execution_count": 0,
   "metadata": {
    "application/vnd.databricks.v1+cell": {
     "cellMetadata": {
      "byteLimit": 2048000,
      "rowLimit": 10000
     },
     "inputWidgets": {},
     "nuid": "5229c30c-1b60-40cb-9478-2ced3d97e303",
     "showTitle": false,
     "tableResultSettingsMap": {},
     "title": ""
    }
   },
   "outputs": [
    {
     "output_type": "display_data",
     "data": {
      "application/vnd.databricks.v1+bamboolib_hint": "{\"pd.DataFrames\": [], \"version\": \"0.0.1\"}",
      "text/plain": []
     },
     "metadata": {},
     "output_type": "display_data"
    }
   ],
   "source": [
    "from ucimlrepo import fetch_ucirepo \n",
    "import numpy as np\n",
    "import pandas as pd\n",
    "from sklearn.preprocessing import LabelEncoder\n",
    "from sklearn.model_selection import train_test_split\n",
    "import lightgbm\n",
    "from sklearn.metrics import classification_report\n",
    "import ctgan"
   ]
  },
  {
   "cell_type": "markdown",
   "metadata": {
    "application/vnd.databricks.v1+cell": {
     "cellMetadata": {},
     "inputWidgets": {},
     "nuid": "965b96a0-83b3-4e82-b0f9-e277dc733c55",
     "showTitle": false,
     "tableResultSettingsMap": {},
     "title": ""
    }
   },
   "source": [
    "### Read the Income dataset from UCI Repository"
   ]
  },
  {
   "cell_type": "code",
   "execution_count": 0,
   "metadata": {
    "application/vnd.databricks.v1+cell": {
     "cellMetadata": {
      "byteLimit": 2048000,
      "rowLimit": 10000
     },
     "inputWidgets": {},
     "nuid": "9ef01939-ab3d-4da6-813b-d8197c447771",
     "showTitle": false,
     "tableResultSettingsMap": {},
     "title": ""
    }
   },
   "outputs": [
    {
     "output_type": "stream",
     "name": "stdout",
     "output_type": "stream",
     "text": [
      "(48842, 15)\n"
     ]
    },
    {
     "output_type": "display_data",
     "data": {
      "text/html": [
       "<div>\n",
       "<style scoped>\n",
       "    .dataframe tbody tr th:only-of-type {\n",
       "        vertical-align: middle;\n",
       "    }\n",
       "\n",
       "    .dataframe tbody tr th {\n",
       "        vertical-align: top;\n",
       "    }\n",
       "\n",
       "    .dataframe thead th {\n",
       "        text-align: right;\n",
       "    }\n",
       "</style>\n",
       "<table border=\"1\" class=\"dataframe\">\n",
       "  <thead>\n",
       "    <tr style=\"text-align: right;\">\n",
       "      <th></th>\n",
       "      <th>age</th>\n",
       "      <th>workclass</th>\n",
       "      <th>fnlwgt</th>\n",
       "      <th>education</th>\n",
       "      <th>education-num</th>\n",
       "      <th>marital-status</th>\n",
       "      <th>occupation</th>\n",
       "      <th>relationship</th>\n",
       "      <th>race</th>\n",
       "      <th>sex</th>\n",
       "      <th>capital-gain</th>\n",
       "      <th>capital-loss</th>\n",
       "      <th>hours-per-week</th>\n",
       "      <th>native-country</th>\n",
       "      <th>income</th>\n",
       "    </tr>\n",
       "  </thead>\n",
       "  <tbody>\n",
       "    <tr>\n",
       "      <th>642</th>\n",
       "      <td>21</td>\n",
       "      <td>Private</td>\n",
       "      <td>160968</td>\n",
       "      <td>Some-college</td>\n",
       "      <td>10</td>\n",
       "      <td>Never-married</td>\n",
       "      <td>Handlers-cleaners</td>\n",
       "      <td>Own-child</td>\n",
       "      <td>White</td>\n",
       "      <td>Male</td>\n",
       "      <td>0</td>\n",
       "      <td>0</td>\n",
       "      <td>40</td>\n",
       "      <td>United-States</td>\n",
       "      <td>&lt;=50K</td>\n",
       "    </tr>\n",
       "    <tr>\n",
       "      <th>479</th>\n",
       "      <td>23</td>\n",
       "      <td>Private</td>\n",
       "      <td>197904</td>\n",
       "      <td>HS-grad</td>\n",
       "      <td>9</td>\n",
       "      <td>Never-married</td>\n",
       "      <td>Other-service</td>\n",
       "      <td>Unmarried</td>\n",
       "      <td>White</td>\n",
       "      <td>Female</td>\n",
       "      <td>0</td>\n",
       "      <td>0</td>\n",
       "      <td>35</td>\n",
       "      <td>United-States</td>\n",
       "      <td>&lt;=50K</td>\n",
       "    </tr>\n",
       "    <tr>\n",
       "      <th>23650</th>\n",
       "      <td>55</td>\n",
       "      <td>Private</td>\n",
       "      <td>82098</td>\n",
       "      <td>HS-grad</td>\n",
       "      <td>9</td>\n",
       "      <td>Married-civ-spouse</td>\n",
       "      <td>Exec-managerial</td>\n",
       "      <td>Husband</td>\n",
       "      <td>Asian-Pac-Islander</td>\n",
       "      <td>Male</td>\n",
       "      <td>0</td>\n",
       "      <td>0</td>\n",
       "      <td>55</td>\n",
       "      <td>United-States</td>\n",
       "      <td>&lt;=50K</td>\n",
       "    </tr>\n",
       "  </tbody>\n",
       "</table>\n",
       "</div>"
      ]
     },
     "metadata": {
      "application/vnd.databricks.v1+output": {
       "addedWidgets": {},
       "arguments": {},
       "data": "<div>\n<style scoped>\n    .dataframe tbody tr th:only-of-type {\n        vertical-align: middle;\n    }\n\n    .dataframe tbody tr th {\n        vertical-align: top;\n    }\n\n    .dataframe thead th {\n        text-align: right;\n    }\n</style>\n<table border=\"1\" class=\"dataframe\">\n  <thead>\n    <tr style=\"text-align: right;\">\n      <th></th>\n      <th>age</th>\n      <th>workclass</th>\n      <th>fnlwgt</th>\n      <th>education</th>\n      <th>education-num</th>\n      <th>marital-status</th>\n      <th>occupation</th>\n      <th>relationship</th>\n      <th>race</th>\n      <th>sex</th>\n      <th>capital-gain</th>\n      <th>capital-loss</th>\n      <th>hours-per-week</th>\n      <th>native-country</th>\n      <th>income</th>\n    </tr>\n  </thead>\n  <tbody>\n    <tr>\n      <th>642</th>\n      <td>21</td>\n      <td>Private</td>\n      <td>160968</td>\n      <td>Some-college</td>\n      <td>10</td>\n      <td>Never-married</td>\n      <td>Handlers-cleaners</td>\n      <td>Own-child</td>\n      <td>White</td>\n      <td>Male</td>\n      <td>0</td>\n      <td>0</td>\n      <td>40</td>\n      <td>United-States</td>\n      <td>&lt;=50K</td>\n    </tr>\n    <tr>\n      <th>479</th>\n      <td>23</td>\n      <td>Private</td>\n      <td>197904</td>\n      <td>HS-grad</td>\n      <td>9</td>\n      <td>Never-married</td>\n      <td>Other-service</td>\n      <td>Unmarried</td>\n      <td>White</td>\n      <td>Female</td>\n      <td>0</td>\n      <td>0</td>\n      <td>35</td>\n      <td>United-States</td>\n      <td>&lt;=50K</td>\n    </tr>\n    <tr>\n      <th>23650</th>\n      <td>55</td>\n      <td>Private</td>\n      <td>82098</td>\n      <td>HS-grad</td>\n      <td>9</td>\n      <td>Married-civ-spouse</td>\n      <td>Exec-managerial</td>\n      <td>Husband</td>\n      <td>Asian-Pac-Islander</td>\n      <td>Male</td>\n      <td>0</td>\n      <td>0</td>\n      <td>55</td>\n      <td>United-States</td>\n      <td>&lt;=50K</td>\n    </tr>\n  </tbody>\n</table>\n</div>",
       "datasetInfos": [],
       "metadata": {},
       "removedWidgets": [],
       "textData": null,
       "type": "htmlSandbox"
      }
     },
     "output_type": "display_data"
    }
   ],
   "source": [
    "  \n",
    "# fetch dataset from UCI repo\n",
    "adult = fetch_ucirepo(id=2) \n",
    "df = pd.DataFrame(adult.data.features)\n",
    "df['income'] = pd.DataFrame(adult.data.targets)\n",
    "print(df.shape)\n",
    "df.sample(3)"
   ]
  },
  {
   "cell_type": "markdown",
   "metadata": {
    "application/vnd.databricks.v1+cell": {
     "cellMetadata": {},
     "inputWidgets": {},
     "nuid": "0d1beb28-a170-49b7-8a8e-241ecc0f865c",
     "showTitle": false,
     "tableResultSettingsMap": {},
     "title": ""
    }
   },
   "source": [
    "### Basic formatting and minor fixes to the dataset"
   ]
  },
  {
   "cell_type": "code",
   "execution_count": 0,
   "metadata": {
    "application/vnd.databricks.v1+cell": {
     "cellMetadata": {
      "byteLimit": 2048000,
      "rowLimit": 10000
     },
     "inputWidgets": {},
     "nuid": "6446a3c3-2bda-4ec5-88d4-e667da9f9728",
     "showTitle": false,
     "tableResultSettingsMap": {},
     "title": ""
    }
   },
   "outputs": [],
   "source": [
    "df = df.drop('education',axis=1)\n",
    "df = df.apply(lambda x: x.str.strip() if x.dtype == \"object\" else x)\n",
    "df['income'] = df['income'].apply(lambda x: x.rstrip('.') if isinstance(x, str) else x)"
   ]
  },
  {
   "cell_type": "markdown",
   "metadata": {
    "application/vnd.databricks.v1+cell": {
     "cellMetadata": {},
     "inputWidgets": {},
     "nuid": "de31e233-5d4d-4c27-a37a-92559b00445f",
     "showTitle": false,
     "tableResultSettingsMap": {},
     "title": ""
    }
   },
   "source": [
    "### Define a function for binning Numerical features"
   ]
  },
  {
   "cell_type": "code",
   "execution_count": 0,
   "metadata": {
    "application/vnd.databricks.v1+cell": {
     "cellMetadata": {
      "byteLimit": 2048000,
      "rowLimit": 10000
     },
     "inputWidgets": {},
     "nuid": "df3d2629-9340-4170-ad18-155d7d2d08ce",
     "showTitle": false,
     "tableResultSettingsMap": {},
     "title": ""
    }
   },
   "outputs": [],
   "source": [
    "def bin_column(df,ignore_cols,b):\n",
    "    for x in df.select_dtypes(['int64','float64','double']):\n",
    "        if x not in ignore_cols:\n",
    "            print('Binning the ' + str(x) + ' feature')\n",
    "            df[x] = pd.cut(df[x],bins=b)\n",
    "            df[x] = df[x].astype(object)\n",
    "        else:\n",
    "            print('Skipping the ' + str(x) + ' feature')\n",
    "            continue"
   ]
  },
  {
   "cell_type": "code",
   "execution_count": 0,
   "metadata": {
    "application/vnd.databricks.v1+cell": {
     "cellMetadata": {
      "byteLimit": 2048000,
      "rowLimit": 10000
     },
     "inputWidgets": {},
     "nuid": "6f8a6b2e-2edf-46c7-a656-5400bee3d393",
     "showTitle": false,
     "tableResultSettingsMap": {},
     "title": ""
    }
   },
   "outputs": [
    {
     "output_type": "stream",
     "name": "stdout",
     "output_type": "stream",
     "text": [
      "Binning the age feature\nBinning the fnlwgt feature\nSkipping the education-num feature\nBinning the capital-gain feature\nBinning the capital-loss feature\nBinning the hours-per-week feature\n"
     ]
    }
   ],
   "source": [
    "bin_column(df,['education-num'],4)"
   ]
  },
  {
   "cell_type": "markdown",
   "metadata": {
    "application/vnd.databricks.v1+cell": {
     "cellMetadata": {},
     "inputWidgets": {},
     "nuid": "8ab5aaa5-cbba-4b49-8a57-274c068b0ddd",
     "showTitle": false,
     "tableResultSettingsMap": {},
     "title": ""
    }
   },
   "source": [
    "### Define a function to perform label encoding and provide the correspoding mapping for future reference"
   ]
  },
  {
   "cell_type": "code",
   "execution_count": 0,
   "metadata": {
    "application/vnd.databricks.v1+cell": {
     "cellMetadata": {
      "byteLimit": 2048000,
      "rowLimit": 10000
     },
     "inputWidgets": {},
     "nuid": "f15658cf-e1d0-4d53-8cf5-0e1ea5b054a3",
     "showTitle": false,
     "tableResultSettingsMap": {},
     "title": ""
    }
   },
   "outputs": [],
   "source": [
    "def encode_column(df):\n",
    "    le = LabelEncoder()\n",
    "    for x in df.select_dtypes('object'):\n",
    "        print('Encoding the ' + str(x) + ' feature')\n",
    "        le.fit(df[x])\n",
    "        le_mapping = dict(zip(le.classes_, le.transform(le.classes_)))\n",
    "        df[x] = le.transform(df[x])\n",
    "        print(le_mapping)"
   ]
  },
  {
   "cell_type": "code",
   "execution_count": 0,
   "metadata": {
    "application/vnd.databricks.v1+cell": {
     "cellMetadata": {
      "byteLimit": 2048000,
      "rowLimit": 10000
     },
     "inputWidgets": {},
     "nuid": "172c47b2-684f-48be-b365-d95f14234b3e",
     "showTitle": false,
     "tableResultSettingsMap": {},
     "title": ""
    }
   },
   "outputs": [
    {
     "output_type": "stream",
     "name": "stdout",
     "output_type": "stream",
     "text": [
      "Encoding the age feature\n{Interval(16.927, 35.25, closed='right'): 0, Interval(35.25, 53.5, closed='right'): 1, Interval(53.5, 71.75, closed='right'): 2, Interval(71.75, 90.0, closed='right'): 3}\nEncoding the workclass feature\n{'?': 0, 'Federal-gov': 1, 'Local-gov': 2, 'Never-worked': 3, 'Private': 4, 'Self-emp-inc': 5, 'Self-emp-not-inc': 6, 'State-gov': 7, 'Without-pay': 8, nan: 9}\nEncoding the fnlwgt feature\n{Interval(10806.885, 381813.75, closed='right'): 0, Interval(381813.75, 751342.5, closed='right'): 1, Interval(751342.5, 1120871.25, closed='right'): 2, Interval(1120871.25, 1490400.0, closed='right'): 3}\nEncoding the marital-status feature\n{'Divorced': 0, 'Married-AF-spouse': 1, 'Married-civ-spouse': 2, 'Married-spouse-absent': 3, 'Never-married': 4, 'Separated': 5, 'Widowed': 6}\nEncoding the occupation feature\n{'?': 0, 'Adm-clerical': 1, 'Armed-Forces': 2, 'Craft-repair': 3, 'Exec-managerial': 4, 'Farming-fishing': 5, 'Handlers-cleaners': 6, 'Machine-op-inspct': 7, 'Other-service': 8, 'Priv-house-serv': 9, 'Prof-specialty': 10, 'Protective-serv': 11, 'Sales': 12, 'Tech-support': 13, 'Transport-moving': 14, nan: 15}\nEncoding the relationship feature\n{'Husband': 0, 'Not-in-family': 1, 'Other-relative': 2, 'Own-child': 3, 'Unmarried': 4, 'Wife': 5}\nEncoding the race feature\n{'Amer-Indian-Eskimo': 0, 'Asian-Pac-Islander': 1, 'Black': 2, 'Other': 3, 'White': 4}\nEncoding the sex feature\n{'Female': 0, 'Male': 1}\nEncoding the capital-gain feature\n{Interval(-99.999, 24999.75, closed='right'): 0, Interval(24999.75, 49999.5, closed='right'): 1, Interval(74999.25, 99999.0, closed='right'): 2}\nEncoding the capital-loss feature\n{Interval(-4.356, 1089.0, closed='right'): 0, Interval(1089.0, 2178.0, closed='right'): 1, Interval(2178.0, 3267.0, closed='right'): 2, Interval(3267.0, 4356.0, closed='right'): 3}\nEncoding the hours-per-week feature\n{Interval(0.902, 25.5, closed='right'): 0, Interval(25.5, 50.0, closed='right'): 1, Interval(50.0, 74.5, closed='right'): 2, Interval(74.5, 99.0, closed='right'): 3}\nEncoding the native-country feature\n{'?': 0, 'Cambodia': 1, 'Canada': 2, 'China': 3, 'Columbia': 4, 'Cuba': 5, 'Dominican-Republic': 6, 'Ecuador': 7, 'El-Salvador': 8, 'England': 9, 'France': 10, 'Germany': 11, 'Greece': 12, 'Guatemala': 13, 'Haiti': 14, 'Holand-Netherlands': 15, 'Honduras': 16, 'Hong': 17, 'Hungary': 18, 'India': 19, 'Iran': 20, 'Ireland': 21, 'Italy': 22, 'Jamaica': 23, 'Japan': 24, 'Laos': 25, 'Mexico': 26, 'Nicaragua': 27, 'Outlying-US(Guam-USVI-etc)': 28, 'Peru': 29, 'Philippines': 30, 'Poland': 31, 'Portugal': 32, 'Puerto-Rico': 33, 'Scotland': 34, 'South': 35, 'Taiwan': 36, 'Thailand': 37, 'Trinadad&Tobago': 38, 'United-States': 39, 'Vietnam': 40, 'Yugoslavia': 41, nan: 42}\nEncoding the income feature\n{'<=50K': 0, '>50K': 1}\n"
     ]
    }
   ],
   "source": [
    "encode_column(df)"
   ]
  },
  {
   "cell_type": "markdown",
   "metadata": {
    "application/vnd.databricks.v1+cell": {
     "cellMetadata": {},
     "inputWidgets": {},
     "nuid": "0811c213-6891-427e-90b9-fc83e57c5cd0",
     "showTitle": false,
     "tableResultSettingsMap": {},
     "title": ""
    }
   },
   "source": [
    "### Defining the Feature, Target and performing train-test split"
   ]
  },
  {
   "cell_type": "code",
   "execution_count": 0,
   "metadata": {
    "application/vnd.databricks.v1+cell": {
     "cellMetadata": {
      "byteLimit": 2048000,
      "rowLimit": 10000
     },
     "inputWidgets": {},
     "nuid": "73c7c84d-5694-49f8-abef-2358ed58f561",
     "showTitle": false,
     "tableResultSettingsMap": {},
     "title": ""
    }
   },
   "outputs": [],
   "source": [
    "x = df.drop('income',axis=1)\n",
    "y = df['income']\n",
    "xtrain, xtest, ytrain, ytest = train_test_split(x,y,train_size=0.75,random_state=42)"
   ]
  },
  {
   "cell_type": "markdown",
   "metadata": {
    "application/vnd.databricks.v1+cell": {
     "cellMetadata": {},
     "inputWidgets": {},
     "nuid": "eed99b63-d690-4d4a-94cd-8b747d096db7",
     "showTitle": false,
     "tableResultSettingsMap": {},
     "title": ""
    }
   },
   "source": [
    "### Train a LightGBM Classifier and return the feature importance"
   ]
  },
  {
   "cell_type": "code",
   "execution_count": 0,
   "metadata": {
    "application/vnd.databricks.v1+cell": {
     "cellMetadata": {
      "byteLimit": 2048000,
      "rowLimit": 10000
     },
     "inputWidgets": {},
     "nuid": "c095d3ef-9047-4962-a333-03758ae83b37",
     "showTitle": false,
     "tableResultSettingsMap": {},
     "title": ""
    }
   },
   "outputs": [
    {
     "output_type": "stream",
     "name": "stdout",
     "output_type": "stream",
     "text": [
      "[LightGBM] [Info] Number of positive: 8724, number of negative: 27907\n[LightGBM] [Info] Auto-choosing row-wise multi-threading, the overhead of testing was 0.003157 seconds.\nYou can set `force_row_wise=true` to remove the overhead.\nAnd if memory is not enough, you can set `force_col_wise=true`.\n[LightGBM] [Info] Total Bins 124\n[LightGBM] [Info] Number of data points in the train set: 36631, number of used features: 13\n[LightGBM] [Info] [binary:BoostFromScore]: pavg=0.238159 -> initscore=-1.162800\n[LightGBM] [Info] Start training from score -1.162800\n"
     ]
    },
    {
     "output_type": "display_data",
     "data": {
      "text/html": [
       "<div>\n",
       "<style scoped>\n",
       "    .dataframe tbody tr th:only-of-type {\n",
       "        vertical-align: middle;\n",
       "    }\n",
       "\n",
       "    .dataframe tbody tr th {\n",
       "        vertical-align: top;\n",
       "    }\n",
       "\n",
       "    .dataframe thead th {\n",
       "        text-align: right;\n",
       "    }\n",
       "</style>\n",
       "<table border=\"1\" class=\"dataframe\">\n",
       "  <thead>\n",
       "    <tr style=\"text-align: right;\">\n",
       "      <th></th>\n",
       "      <th>Value</th>\n",
       "      <th>Feature</th>\n",
       "    </tr>\n",
       "  </thead>\n",
       "  <tbody>\n",
       "    <tr>\n",
       "      <th>5</th>\n",
       "      <td>523</td>\n",
       "      <td>occupation</td>\n",
       "    </tr>\n",
       "    <tr>\n",
       "      <th>3</th>\n",
       "      <td>502</td>\n",
       "      <td>education-num</td>\n",
       "    </tr>\n",
       "    <tr>\n",
       "      <th>1</th>\n",
       "      <td>305</td>\n",
       "      <td>workclass</td>\n",
       "    </tr>\n",
       "    <tr>\n",
       "      <th>12</th>\n",
       "      <td>279</td>\n",
       "      <td>native-country</td>\n",
       "    </tr>\n",
       "    <tr>\n",
       "      <th>11</th>\n",
       "      <td>250</td>\n",
       "      <td>hours-per-week</td>\n",
       "    </tr>\n",
       "    <tr>\n",
       "      <th>0</th>\n",
       "      <td>234</td>\n",
       "      <td>age</td>\n",
       "    </tr>\n",
       "    <tr>\n",
       "      <th>6</th>\n",
       "      <td>230</td>\n",
       "      <td>relationship</td>\n",
       "    </tr>\n",
       "    <tr>\n",
       "      <th>4</th>\n",
       "      <td>205</td>\n",
       "      <td>marital-status</td>\n",
       "    </tr>\n",
       "    <tr>\n",
       "      <th>10</th>\n",
       "      <td>150</td>\n",
       "      <td>capital-loss</td>\n",
       "    </tr>\n",
       "    <tr>\n",
       "      <th>9</th>\n",
       "      <td>102</td>\n",
       "      <td>capital-gain</td>\n",
       "    </tr>\n",
       "    <tr>\n",
       "      <th>7</th>\n",
       "      <td>95</td>\n",
       "      <td>race</td>\n",
       "    </tr>\n",
       "    <tr>\n",
       "      <th>8</th>\n",
       "      <td>91</td>\n",
       "      <td>sex</td>\n",
       "    </tr>\n",
       "    <tr>\n",
       "      <th>2</th>\n",
       "      <td>34</td>\n",
       "      <td>fnlwgt</td>\n",
       "    </tr>\n",
       "  </tbody>\n",
       "</table>\n",
       "</div>"
      ]
     },
     "metadata": {
      "application/vnd.databricks.v1+output": {
       "addedWidgets": {},
       "arguments": {},
       "data": "<div>\n<style scoped>\n    .dataframe tbody tr th:only-of-type {\n        vertical-align: middle;\n    }\n\n    .dataframe tbody tr th {\n        vertical-align: top;\n    }\n\n    .dataframe thead th {\n        text-align: right;\n    }\n</style>\n<table border=\"1\" class=\"dataframe\">\n  <thead>\n    <tr style=\"text-align: right;\">\n      <th></th>\n      <th>Value</th>\n      <th>Feature</th>\n    </tr>\n  </thead>\n  <tbody>\n    <tr>\n      <th>5</th>\n      <td>523</td>\n      <td>occupation</td>\n    </tr>\n    <tr>\n      <th>3</th>\n      <td>502</td>\n      <td>education-num</td>\n    </tr>\n    <tr>\n      <th>1</th>\n      <td>305</td>\n      <td>workclass</td>\n    </tr>\n    <tr>\n      <th>12</th>\n      <td>279</td>\n      <td>native-country</td>\n    </tr>\n    <tr>\n      <th>11</th>\n      <td>250</td>\n      <td>hours-per-week</td>\n    </tr>\n    <tr>\n      <th>0</th>\n      <td>234</td>\n      <td>age</td>\n    </tr>\n    <tr>\n      <th>6</th>\n      <td>230</td>\n      <td>relationship</td>\n    </tr>\n    <tr>\n      <th>4</th>\n      <td>205</td>\n      <td>marital-status</td>\n    </tr>\n    <tr>\n      <th>10</th>\n      <td>150</td>\n      <td>capital-loss</td>\n    </tr>\n    <tr>\n      <th>9</th>\n      <td>102</td>\n      <td>capital-gain</td>\n    </tr>\n    <tr>\n      <th>7</th>\n      <td>95</td>\n      <td>race</td>\n    </tr>\n    <tr>\n      <th>8</th>\n      <td>91</td>\n      <td>sex</td>\n    </tr>\n    <tr>\n      <th>2</th>\n      <td>34</td>\n      <td>fnlwgt</td>\n    </tr>\n  </tbody>\n</table>\n</div>",
       "datasetInfos": [],
       "metadata": {},
       "removedWidgets": [],
       "textData": null,
       "type": "htmlSandbox"
      }
     },
     "output_type": "display_data"
    }
   ],
   "source": [
    "lgb = lightgbm.LGBMClassifier()\n",
    "lgb.fit(xtrain,ytrain)\n",
    "gen_feature_imp = pd.DataFrame({'Value':lgb.feature_importances_,'Feature':x.columns})\n",
    "gen_feature_imp = gen_feature_imp.sort_values(by='Value',ascending=False)\n",
    "gen_feature_imp"
   ]
  },
  {
   "cell_type": "markdown",
   "metadata": {
    "application/vnd.databricks.v1+cell": {
     "cellMetadata": {},
     "inputWidgets": {},
     "nuid": "7d9c8f66-8cfc-4ac4-b768-79e6bd6bc923",
     "showTitle": false,
     "tableResultSettingsMap": {},
     "title": ""
    }
   },
   "source": [
    "### Simulate predictions for test data as scores df having both predictions as well as probability scores"
   ]
  },
  {
   "cell_type": "code",
   "execution_count": 0,
   "metadata": {
    "application/vnd.databricks.v1+cell": {
     "cellMetadata": {
      "byteLimit": 2048000,
      "rowLimit": 10000
     },
     "inputWidgets": {},
     "nuid": "a8d5da6e-751c-4d47-be93-9ed137527c50",
     "showTitle": false,
     "tableResultSettingsMap": {},
     "title": ""
    }
   },
   "outputs": [
    {
     "output_type": "stream",
     "name": "stdout",
     "output_type": "stream",
     "text": [
      "(12211, 17)\n"
     ]
    },
    {
     "output_type": "display_data",
     "data": {
      "text/html": [
       "<div>\n",
       "<style scoped>\n",
       "    .dataframe tbody tr th:only-of-type {\n",
       "        vertical-align: middle;\n",
       "    }\n",
       "\n",
       "    .dataframe tbody tr th {\n",
       "        vertical-align: top;\n",
       "    }\n",
       "\n",
       "    .dataframe thead th {\n",
       "        text-align: right;\n",
       "    }\n",
       "</style>\n",
       "<table border=\"1\" class=\"dataframe\">\n",
       "  <thead>\n",
       "    <tr style=\"text-align: right;\">\n",
       "      <th></th>\n",
       "      <th>age</th>\n",
       "      <th>workclass</th>\n",
       "      <th>fnlwgt</th>\n",
       "      <th>education-num</th>\n",
       "      <th>marital-status</th>\n",
       "      <th>occupation</th>\n",
       "      <th>relationship</th>\n",
       "      <th>race</th>\n",
       "      <th>sex</th>\n",
       "      <th>capital-gain</th>\n",
       "      <th>capital-loss</th>\n",
       "      <th>hours-per-week</th>\n",
       "      <th>native-country</th>\n",
       "      <th>income</th>\n",
       "      <th>p_&lt;=50k</th>\n",
       "      <th>p_&gt;50k</th>\n",
       "      <th>predicted_income</th>\n",
       "    </tr>\n",
       "  </thead>\n",
       "  <tbody>\n",
       "    <tr>\n",
       "      <th>7762</th>\n",
       "      <td>0</td>\n",
       "      <td>4</td>\n",
       "      <td>1</td>\n",
       "      <td>9</td>\n",
       "      <td>4</td>\n",
       "      <td>8</td>\n",
       "      <td>1</td>\n",
       "      <td>4</td>\n",
       "      <td>1</td>\n",
       "      <td>0</td>\n",
       "      <td>0</td>\n",
       "      <td>0</td>\n",
       "      <td>39</td>\n",
       "      <td>0</td>\n",
       "      <td>0.997192</td>\n",
       "      <td>0.002808</td>\n",
       "      <td>0</td>\n",
       "    </tr>\n",
       "    <tr>\n",
       "      <th>23881</th>\n",
       "      <td>0</td>\n",
       "      <td>4</td>\n",
       "      <td>0</td>\n",
       "      <td>8</td>\n",
       "      <td>4</td>\n",
       "      <td>12</td>\n",
       "      <td>3</td>\n",
       "      <td>4</td>\n",
       "      <td>0</td>\n",
       "      <td>0</td>\n",
       "      <td>0</td>\n",
       "      <td>0</td>\n",
       "      <td>39</td>\n",
       "      <td>0</td>\n",
       "      <td>0.998028</td>\n",
       "      <td>0.001972</td>\n",
       "      <td>0</td>\n",
       "    </tr>\n",
       "    <tr>\n",
       "      <th>30507</th>\n",
       "      <td>0</td>\n",
       "      <td>2</td>\n",
       "      <td>0</td>\n",
       "      <td>9</td>\n",
       "      <td>4</td>\n",
       "      <td>6</td>\n",
       "      <td>2</td>\n",
       "      <td>2</td>\n",
       "      <td>1</td>\n",
       "      <td>0</td>\n",
       "      <td>0</td>\n",
       "      <td>1</td>\n",
       "      <td>39</td>\n",
       "      <td>0</td>\n",
       "      <td>0.995933</td>\n",
       "      <td>0.004067</td>\n",
       "      <td>0</td>\n",
       "    </tr>\n",
       "    <tr>\n",
       "      <th>28911</th>\n",
       "      <td>0</td>\n",
       "      <td>4</td>\n",
       "      <td>0</td>\n",
       "      <td>10</td>\n",
       "      <td>4</td>\n",
       "      <td>12</td>\n",
       "      <td>3</td>\n",
       "      <td>4</td>\n",
       "      <td>0</td>\n",
       "      <td>0</td>\n",
       "      <td>0</td>\n",
       "      <td>1</td>\n",
       "      <td>39</td>\n",
       "      <td>0</td>\n",
       "      <td>0.991473</td>\n",
       "      <td>0.008527</td>\n",
       "      <td>0</td>\n",
       "    </tr>\n",
       "    <tr>\n",
       "      <th>19484</th>\n",
       "      <td>1</td>\n",
       "      <td>4</td>\n",
       "      <td>0</td>\n",
       "      <td>9</td>\n",
       "      <td>4</td>\n",
       "      <td>7</td>\n",
       "      <td>4</td>\n",
       "      <td>0</td>\n",
       "      <td>1</td>\n",
       "      <td>0</td>\n",
       "      <td>0</td>\n",
       "      <td>2</td>\n",
       "      <td>33</td>\n",
       "      <td>0</td>\n",
       "      <td>0.980556</td>\n",
       "      <td>0.019444</td>\n",
       "      <td>0</td>\n",
       "    </tr>\n",
       "  </tbody>\n",
       "</table>\n",
       "</div>"
      ]
     },
     "metadata": {
      "application/vnd.databricks.v1+output": {
       "addedWidgets": {},
       "arguments": {},
       "data": "<div>\n<style scoped>\n    .dataframe tbody tr th:only-of-type {\n        vertical-align: middle;\n    }\n\n    .dataframe tbody tr th {\n        vertical-align: top;\n    }\n\n    .dataframe thead th {\n        text-align: right;\n    }\n</style>\n<table border=\"1\" class=\"dataframe\">\n  <thead>\n    <tr style=\"text-align: right;\">\n      <th></th>\n      <th>age</th>\n      <th>workclass</th>\n      <th>fnlwgt</th>\n      <th>education-num</th>\n      <th>marital-status</th>\n      <th>occupation</th>\n      <th>relationship</th>\n      <th>race</th>\n      <th>sex</th>\n      <th>capital-gain</th>\n      <th>capital-loss</th>\n      <th>hours-per-week</th>\n      <th>native-country</th>\n      <th>income</th>\n      <th>p_&lt;=50k</th>\n      <th>p_&gt;50k</th>\n      <th>predicted_income</th>\n    </tr>\n  </thead>\n  <tbody>\n    <tr>\n      <th>7762</th>\n      <td>0</td>\n      <td>4</td>\n      <td>1</td>\n      <td>9</td>\n      <td>4</td>\n      <td>8</td>\n      <td>1</td>\n      <td>4</td>\n      <td>1</td>\n      <td>0</td>\n      <td>0</td>\n      <td>0</td>\n      <td>39</td>\n      <td>0</td>\n      <td>0.997192</td>\n      <td>0.002808</td>\n      <td>0</td>\n    </tr>\n    <tr>\n      <th>23881</th>\n      <td>0</td>\n      <td>4</td>\n      <td>0</td>\n      <td>8</td>\n      <td>4</td>\n      <td>12</td>\n      <td>3</td>\n      <td>4</td>\n      <td>0</td>\n      <td>0</td>\n      <td>0</td>\n      <td>0</td>\n      <td>39</td>\n      <td>0</td>\n      <td>0.998028</td>\n      <td>0.001972</td>\n      <td>0</td>\n    </tr>\n    <tr>\n      <th>30507</th>\n      <td>0</td>\n      <td>2</td>\n      <td>0</td>\n      <td>9</td>\n      <td>4</td>\n      <td>6</td>\n      <td>2</td>\n      <td>2</td>\n      <td>1</td>\n      <td>0</td>\n      <td>0</td>\n      <td>1</td>\n      <td>39</td>\n      <td>0</td>\n      <td>0.995933</td>\n      <td>0.004067</td>\n      <td>0</td>\n    </tr>\n    <tr>\n      <th>28911</th>\n      <td>0</td>\n      <td>4</td>\n      <td>0</td>\n      <td>10</td>\n      <td>4</td>\n      <td>12</td>\n      <td>3</td>\n      <td>4</td>\n      <td>0</td>\n      <td>0</td>\n      <td>0</td>\n      <td>1</td>\n      <td>39</td>\n      <td>0</td>\n      <td>0.991473</td>\n      <td>0.008527</td>\n      <td>0</td>\n    </tr>\n    <tr>\n      <th>19484</th>\n      <td>1</td>\n      <td>4</td>\n      <td>0</td>\n      <td>9</td>\n      <td>4</td>\n      <td>7</td>\n      <td>4</td>\n      <td>0</td>\n      <td>1</td>\n      <td>0</td>\n      <td>0</td>\n      <td>2</td>\n      <td>33</td>\n      <td>0</td>\n      <td>0.980556</td>\n      <td>0.019444</td>\n      <td>0</td>\n    </tr>\n  </tbody>\n</table>\n</div>",
       "datasetInfos": [],
       "metadata": {},
       "removedWidgets": [],
       "textData": null,
       "type": "htmlSandbox"
      }
     },
     "output_type": "display_data"
    }
   ],
   "source": [
    "scores = xtest.copy()\n",
    "scores['income'] = ytest\n",
    "scores['p_<=50k'] = lgb.predict_proba(xtest)[:,0]\n",
    "scores['p_>50k'] = lgb.predict_proba(xtest)[:,1]\n",
    "scores['predicted_income'] = lgb.predict(xtest)\n",
    "print(scores.shape)\n",
    "scores.head()"
   ]
  },
  {
   "cell_type": "code",
   "execution_count": 0,
   "metadata": {
    "application/vnd.databricks.v1+cell": {
     "cellMetadata": {
      "byteLimit": 2048000,
      "rowLimit": 10000
     },
     "inputWidgets": {},
     "nuid": "347dd75f-96be-462c-aaca-891da612028e",
     "showTitle": false,
     "tableResultSettingsMap": {},
     "title": ""
    }
   },
   "outputs": [
    {
     "output_type": "stream",
     "name": "stdout",
     "output_type": "stream",
     "text": [
      "              precision    recall  f1-score   support\n\n           0       0.87      0.93      0.90      9248\n           1       0.72      0.56      0.63      2963\n\n    accuracy                           0.84     12211\n   macro avg       0.79      0.75      0.77     12211\nweighted avg       0.83      0.84      0.83     12211\n\n"
     ]
    }
   ],
   "source": [
    "print(classification_report(scores['income'],scores['predicted_income']))"
   ]
  },
  {
   "cell_type": "markdown",
   "metadata": {
    "application/vnd.databricks.v1+cell": {
     "cellMetadata": {},
     "inputWidgets": {},
     "nuid": "1594b11a-171b-4e8e-a6e0-1c61d045f8b1",
     "showTitle": false,
     "tableResultSettingsMap": {},
     "title": ""
    }
   },
   "source": [
    "### Defining a function for cutoff based predictions based on the number of bands provided"
   ]
  },
  {
   "cell_type": "code",
   "execution_count": 0,
   "metadata": {
    "application/vnd.databricks.v1+cell": {
     "cellMetadata": {
      "byteLimit": 2048000,
      "rowLimit": 10000
     },
     "inputWidgets": {},
     "nuid": "5fc56e43-eb5b-4ef2-9a25-1a3c6c88bbde",
     "showTitle": false,
     "tableResultSettingsMap": {},
     "title": ""
    }
   },
   "outputs": [],
   "source": [
    "def cut_off_based_prediction(df, target, num_of_bands):\n",
    "    for score in range(1, num_of_bands):\n",
    "        col_name = f'cutoff_{score / num_of_bands}'  # Create column name based on score\n",
    "        cutoff = score / 10  # Calculate cutoff value\n",
    "        # Apply condition to the entire column vectorized\n",
    "        df[col_name] = (cutoff >= df[target]).astype(int)\n",
    "    return df\n"
   ]
  },
  {
   "cell_type": "code",
   "execution_count": 0,
   "metadata": {
    "application/vnd.databricks.v1+cell": {
     "cellMetadata": {
      "byteLimit": 2048000,
      "rowLimit": 10000
     },
     "inputWidgets": {},
     "nuid": "06dbaa7f-95fb-4831-b109-ac7f3652ad36",
     "showTitle": false,
     "tableResultSettingsMap": {},
     "title": ""
    }
   },
   "outputs": [
    {
     "output_type": "display_data",
     "data": {
      "text/html": [
       "<div>\n",
       "<style scoped>\n",
       "    .dataframe tbody tr th:only-of-type {\n",
       "        vertical-align: middle;\n",
       "    }\n",
       "\n",
       "    .dataframe tbody tr th {\n",
       "        vertical-align: top;\n",
       "    }\n",
       "\n",
       "    .dataframe thead th {\n",
       "        text-align: right;\n",
       "    }\n",
       "</style>\n",
       "<table border=\"1\" class=\"dataframe\">\n",
       "  <thead>\n",
       "    <tr style=\"text-align: right;\">\n",
       "      <th></th>\n",
       "      <th>age</th>\n",
       "      <th>workclass</th>\n",
       "      <th>fnlwgt</th>\n",
       "      <th>education-num</th>\n",
       "      <th>marital-status</th>\n",
       "      <th>occupation</th>\n",
       "      <th>relationship</th>\n",
       "      <th>race</th>\n",
       "      <th>sex</th>\n",
       "      <th>capital-gain</th>\n",
       "      <th>...</th>\n",
       "      <th>predicted_income</th>\n",
       "      <th>cutoff_0.1</th>\n",
       "      <th>cutoff_0.2</th>\n",
       "      <th>cutoff_0.3</th>\n",
       "      <th>cutoff_0.4</th>\n",
       "      <th>cutoff_0.5</th>\n",
       "      <th>cutoff_0.6</th>\n",
       "      <th>cutoff_0.7</th>\n",
       "      <th>cutoff_0.8</th>\n",
       "      <th>cutoff_0.9</th>\n",
       "    </tr>\n",
       "  </thead>\n",
       "  <tbody>\n",
       "    <tr>\n",
       "      <th>4393</th>\n",
       "      <td>0</td>\n",
       "      <td>0</td>\n",
       "      <td>0</td>\n",
       "      <td>10</td>\n",
       "      <td>4</td>\n",
       "      <td>0</td>\n",
       "      <td>3</td>\n",
       "      <td>4</td>\n",
       "      <td>1</td>\n",
       "      <td>0</td>\n",
       "      <td>...</td>\n",
       "      <td>0</td>\n",
       "      <td>0</td>\n",
       "      <td>0</td>\n",
       "      <td>0</td>\n",
       "      <td>0</td>\n",
       "      <td>0</td>\n",
       "      <td>0</td>\n",
       "      <td>0</td>\n",
       "      <td>0</td>\n",
       "      <td>0</td>\n",
       "    </tr>\n",
       "    <tr>\n",
       "      <th>11499</th>\n",
       "      <td>3</td>\n",
       "      <td>4</td>\n",
       "      <td>0</td>\n",
       "      <td>4</td>\n",
       "      <td>6</td>\n",
       "      <td>8</td>\n",
       "      <td>1</td>\n",
       "      <td>4</td>\n",
       "      <td>0</td>\n",
       "      <td>0</td>\n",
       "      <td>...</td>\n",
       "      <td>0</td>\n",
       "      <td>0</td>\n",
       "      <td>0</td>\n",
       "      <td>0</td>\n",
       "      <td>0</td>\n",
       "      <td>0</td>\n",
       "      <td>0</td>\n",
       "      <td>0</td>\n",
       "      <td>0</td>\n",
       "      <td>0</td>\n",
       "    </tr>\n",
       "    <tr>\n",
       "      <th>4248</th>\n",
       "      <td>1</td>\n",
       "      <td>4</td>\n",
       "      <td>0</td>\n",
       "      <td>7</td>\n",
       "      <td>4</td>\n",
       "      <td>8</td>\n",
       "      <td>1</td>\n",
       "      <td>2</td>\n",
       "      <td>0</td>\n",
       "      <td>0</td>\n",
       "      <td>...</td>\n",
       "      <td>0</td>\n",
       "      <td>0</td>\n",
       "      <td>0</td>\n",
       "      <td>0</td>\n",
       "      <td>0</td>\n",
       "      <td>0</td>\n",
       "      <td>0</td>\n",
       "      <td>0</td>\n",
       "      <td>0</td>\n",
       "      <td>0</td>\n",
       "    </tr>\n",
       "    <tr>\n",
       "      <th>36957</th>\n",
       "      <td>0</td>\n",
       "      <td>4</td>\n",
       "      <td>0</td>\n",
       "      <td>6</td>\n",
       "      <td>2</td>\n",
       "      <td>3</td>\n",
       "      <td>0</td>\n",
       "      <td>4</td>\n",
       "      <td>1</td>\n",
       "      <td>0</td>\n",
       "      <td>...</td>\n",
       "      <td>0</td>\n",
       "      <td>0</td>\n",
       "      <td>0</td>\n",
       "      <td>0</td>\n",
       "      <td>0</td>\n",
       "      <td>0</td>\n",
       "      <td>0</td>\n",
       "      <td>0</td>\n",
       "      <td>0</td>\n",
       "      <td>0</td>\n",
       "    </tr>\n",
       "    <tr>\n",
       "      <th>46677</th>\n",
       "      <td>2</td>\n",
       "      <td>1</td>\n",
       "      <td>0</td>\n",
       "      <td>14</td>\n",
       "      <td>0</td>\n",
       "      <td>10</td>\n",
       "      <td>1</td>\n",
       "      <td>4</td>\n",
       "      <td>1</td>\n",
       "      <td>0</td>\n",
       "      <td>...</td>\n",
       "      <td>0</td>\n",
       "      <td>0</td>\n",
       "      <td>0</td>\n",
       "      <td>0</td>\n",
       "      <td>0</td>\n",
       "      <td>0</td>\n",
       "      <td>1</td>\n",
       "      <td>1</td>\n",
       "      <td>1</td>\n",
       "      <td>1</td>\n",
       "    </tr>\n",
       "  </tbody>\n",
       "</table>\n",
       "<p>5 rows × 26 columns</p>\n",
       "</div>"
      ]
     },
     "metadata": {
      "application/vnd.databricks.v1+output": {
       "addedWidgets": {},
       "arguments": {},
       "data": "<div>\n<style scoped>\n    .dataframe tbody tr th:only-of-type {\n        vertical-align: middle;\n    }\n\n    .dataframe tbody tr th {\n        vertical-align: top;\n    }\n\n    .dataframe thead th {\n        text-align: right;\n    }\n</style>\n<table border=\"1\" class=\"dataframe\">\n  <thead>\n    <tr style=\"text-align: right;\">\n      <th></th>\n      <th>age</th>\n      <th>workclass</th>\n      <th>fnlwgt</th>\n      <th>education-num</th>\n      <th>marital-status</th>\n      <th>occupation</th>\n      <th>relationship</th>\n      <th>race</th>\n      <th>sex</th>\n      <th>capital-gain</th>\n      <th>...</th>\n      <th>predicted_income</th>\n      <th>cutoff_0.1</th>\n      <th>cutoff_0.2</th>\n      <th>cutoff_0.3</th>\n      <th>cutoff_0.4</th>\n      <th>cutoff_0.5</th>\n      <th>cutoff_0.6</th>\n      <th>cutoff_0.7</th>\n      <th>cutoff_0.8</th>\n      <th>cutoff_0.9</th>\n    </tr>\n  </thead>\n  <tbody>\n    <tr>\n      <th>4393</th>\n      <td>0</td>\n      <td>0</td>\n      <td>0</td>\n      <td>10</td>\n      <td>4</td>\n      <td>0</td>\n      <td>3</td>\n      <td>4</td>\n      <td>1</td>\n      <td>0</td>\n      <td>...</td>\n      <td>0</td>\n      <td>0</td>\n      <td>0</td>\n      <td>0</td>\n      <td>0</td>\n      <td>0</td>\n      <td>0</td>\n      <td>0</td>\n      <td>0</td>\n      <td>0</td>\n    </tr>\n    <tr>\n      <th>11499</th>\n      <td>3</td>\n      <td>4</td>\n      <td>0</td>\n      <td>4</td>\n      <td>6</td>\n      <td>8</td>\n      <td>1</td>\n      <td>4</td>\n      <td>0</td>\n      <td>0</td>\n      <td>...</td>\n      <td>0</td>\n      <td>0</td>\n      <td>0</td>\n      <td>0</td>\n      <td>0</td>\n      <td>0</td>\n      <td>0</td>\n      <td>0</td>\n      <td>0</td>\n      <td>0</td>\n    </tr>\n    <tr>\n      <th>4248</th>\n      <td>1</td>\n      <td>4</td>\n      <td>0</td>\n      <td>7</td>\n      <td>4</td>\n      <td>8</td>\n      <td>1</td>\n      <td>2</td>\n      <td>0</td>\n      <td>0</td>\n      <td>...</td>\n      <td>0</td>\n      <td>0</td>\n      <td>0</td>\n      <td>0</td>\n      <td>0</td>\n      <td>0</td>\n      <td>0</td>\n      <td>0</td>\n      <td>0</td>\n      <td>0</td>\n    </tr>\n    <tr>\n      <th>36957</th>\n      <td>0</td>\n      <td>4</td>\n      <td>0</td>\n      <td>6</td>\n      <td>2</td>\n      <td>3</td>\n      <td>0</td>\n      <td>4</td>\n      <td>1</td>\n      <td>0</td>\n      <td>...</td>\n      <td>0</td>\n      <td>0</td>\n      <td>0</td>\n      <td>0</td>\n      <td>0</td>\n      <td>0</td>\n      <td>0</td>\n      <td>0</td>\n      <td>0</td>\n      <td>0</td>\n    </tr>\n    <tr>\n      <th>46677</th>\n      <td>2</td>\n      <td>1</td>\n      <td>0</td>\n      <td>14</td>\n      <td>0</td>\n      <td>10</td>\n      <td>1</td>\n      <td>4</td>\n      <td>1</td>\n      <td>0</td>\n      <td>...</td>\n      <td>0</td>\n      <td>0</td>\n      <td>0</td>\n      <td>0</td>\n      <td>0</td>\n      <td>0</td>\n      <td>1</td>\n      <td>1</td>\n      <td>1</td>\n      <td>1</td>\n    </tr>\n  </tbody>\n</table>\n<p>5 rows × 26 columns</p>\n</div>",
       "datasetInfos": [],
       "metadata": {},
       "removedWidgets": [],
       "textData": null,
       "type": "htmlSandbox"
      }
     },
     "output_type": "display_data"
    }
   ],
   "source": [
    "scores_final = cut_off_based_prediction(scores,'p_<=50k',10)\n",
    "scores_final.sample(5)"
   ]
  },
  {
   "cell_type": "code",
   "execution_count": 0,
   "metadata": {
    "application/vnd.databricks.v1+cell": {
     "cellMetadata": {
      "byteLimit": 2048000,
      "rowLimit": 10000
     },
     "inputWidgets": {},
     "nuid": "f8886601-3f94-4d9c-94e6-c8657d396170",
     "showTitle": false,
     "tableResultSettingsMap": {},
     "title": ""
    }
   },
   "outputs": [
    {
     "output_type": "stream",
     "name": "stdout",
     "output_type": "stream",
     "text": [
      "True\n"
     ]
    }
   ],
   "source": [
    "# Check if default cutoff is 0.5 \n",
    "are_equal = (scores_final['predicted_income'] == scores_final['cutoff_0.5']).all()\n",
    "print(are_equal)"
   ]
  },
  {
   "cell_type": "markdown",
   "metadata": {
    "application/vnd.databricks.v1+cell": {
     "cellMetadata": {},
     "inputWidgets": {},
     "nuid": "44ab1afe-fc18-431c-a332-8c03152798c8",
     "showTitle": false,
     "tableResultSettingsMap": {},
     "title": ""
    }
   },
   "source": [
    "## Model Optimisation\n",
    "### 1.Cutoff based Optimisation\n"
   ]
  },
  {
   "cell_type": "code",
   "execution_count": 0,
   "metadata": {
    "application/vnd.databricks.v1+cell": {
     "cellMetadata": {
      "byteLimit": 2048000,
      "rowLimit": 10000
     },
     "inputWidgets": {},
     "nuid": "bb7f047b-526e-43bc-bfbc-5514ef0375ef",
     "showTitle": false,
     "tableResultSettingsMap": {},
     "title": ""
    }
   },
   "outputs": [
    {
     "output_type": "stream",
     "name": "stdout",
     "output_type": "stream",
     "text": [
      "              precision    recall  f1-score   support\n\n           0       0.77      0.68      0.72        25\n           1       0.53      0.64      0.58        14\n\n    accuracy                           0.67        39\n   macro avg       0.65      0.66      0.65        39\nweighted avg       0.69      0.67      0.67        39\n\n"
     ]
    }
   ],
   "source": [
    "\n",
    "print(classification_report(scores[scores['native-country'] == 19]['income'],scores[scores['native-country'] == 19]['predicted_income']))"
   ]
  },
  {
   "cell_type": "code",
   "execution_count": 0,
   "metadata": {
    "application/vnd.databricks.v1+cell": {
     "cellMetadata": {
      "byteLimit": 2048000,
      "rowLimit": 10000
     },
     "inputWidgets": {},
     "nuid": "8c58b991-df04-49ef-b0de-59081b0ed3ca",
     "showTitle": false,
     "tableResultSettingsMap": {},
     "title": ""
    }
   },
   "outputs": [
    {
     "output_type": "stream",
     "name": "stdout",
     "output_type": "stream",
     "text": [
      "              precision    recall  f1-score   support\n\n           0       0.84      0.64      0.73        25\n           1       0.55      0.79      0.65        14\n\n    accuracy                           0.69        39\n   macro avg       0.70      0.71      0.69        39\nweighted avg       0.74      0.69      0.70        39\n\n"
     ]
    }
   ],
   "source": [
    "\n",
    "print(classification_report(scores[scores['native-country'] == 19]['income'],scores[scores['native-country'] == 19]['cutoff_0.6']))"
   ]
  },
  {
   "cell_type": "markdown",
   "metadata": {
    "application/vnd.databricks.v1+cell": {
     "cellMetadata": {},
     "inputWidgets": {},
     "nuid": "da291e82-77e8-4fba-9278-dff2d9abafd1",
     "showTitle": false,
     "tableResultSettingsMap": {},
     "title": ""
    }
   },
   "source": [
    "### 2. Building Specialised Models"
   ]
  },
  {
   "cell_type": "code",
   "execution_count": 0,
   "metadata": {
    "application/vnd.databricks.v1+cell": {
     "cellMetadata": {
      "byteLimit": 2048000,
      "rowLimit": 10000
     },
     "inputWidgets": {},
     "nuid": "32f2d6f3-81e5-4b7d-8efe-affa0d4c8b91",
     "showTitle": false,
     "tableResultSettingsMap": {},
     "title": ""
    }
   },
   "outputs": [
    {
     "output_type": "stream",
     "name": "stdout",
     "output_type": "stream",
     "text": [
      "(151, 14)\n"
     ]
    },
    {
     "output_type": "display_data",
     "data": {
      "text/html": [
       "<div>\n",
       "<style scoped>\n",
       "    .dataframe tbody tr th:only-of-type {\n",
       "        vertical-align: middle;\n",
       "    }\n",
       "\n",
       "    .dataframe tbody tr th {\n",
       "        vertical-align: top;\n",
       "    }\n",
       "\n",
       "    .dataframe thead th {\n",
       "        text-align: right;\n",
       "    }\n",
       "</style>\n",
       "<table border=\"1\" class=\"dataframe\">\n",
       "  <thead>\n",
       "    <tr style=\"text-align: right;\">\n",
       "      <th></th>\n",
       "      <th>age</th>\n",
       "      <th>workclass</th>\n",
       "      <th>fnlwgt</th>\n",
       "      <th>education-num</th>\n",
       "      <th>marital-status</th>\n",
       "      <th>occupation</th>\n",
       "      <th>relationship</th>\n",
       "      <th>race</th>\n",
       "      <th>sex</th>\n",
       "      <th>capital-gain</th>\n",
       "      <th>capital-loss</th>\n",
       "      <th>hours-per-week</th>\n",
       "      <th>native-country</th>\n",
       "      <th>income</th>\n",
       "    </tr>\n",
       "  </thead>\n",
       "  <tbody>\n",
       "    <tr>\n",
       "      <th>11</th>\n",
       "      <td>0</td>\n",
       "      <td>7</td>\n",
       "      <td>0</td>\n",
       "      <td>13</td>\n",
       "      <td>2</td>\n",
       "      <td>10</td>\n",
       "      <td>0</td>\n",
       "      <td>1</td>\n",
       "      <td>1</td>\n",
       "      <td>0</td>\n",
       "      <td>0</td>\n",
       "      <td>1</td>\n",
       "      <td>19</td>\n",
       "      <td>1</td>\n",
       "    </tr>\n",
       "    <tr>\n",
       "      <th>892</th>\n",
       "      <td>0</td>\n",
       "      <td>4</td>\n",
       "      <td>0</td>\n",
       "      <td>11</td>\n",
       "      <td>2</td>\n",
       "      <td>1</td>\n",
       "      <td>5</td>\n",
       "      <td>1</td>\n",
       "      <td>0</td>\n",
       "      <td>0</td>\n",
       "      <td>0</td>\n",
       "      <td>1</td>\n",
       "      <td>19</td>\n",
       "      <td>0</td>\n",
       "    </tr>\n",
       "    <tr>\n",
       "      <th>968</th>\n",
       "      <td>1</td>\n",
       "      <td>4</td>\n",
       "      <td>0</td>\n",
       "      <td>13</td>\n",
       "      <td>2</td>\n",
       "      <td>4</td>\n",
       "      <td>0</td>\n",
       "      <td>1</td>\n",
       "      <td>1</td>\n",
       "      <td>0</td>\n",
       "      <td>0</td>\n",
       "      <td>1</td>\n",
       "      <td>19</td>\n",
       "      <td>1</td>\n",
       "    </tr>\n",
       "    <tr>\n",
       "      <th>1029</th>\n",
       "      <td>1</td>\n",
       "      <td>5</td>\n",
       "      <td>0</td>\n",
       "      <td>14</td>\n",
       "      <td>3</td>\n",
       "      <td>12</td>\n",
       "      <td>1</td>\n",
       "      <td>1</td>\n",
       "      <td>1</td>\n",
       "      <td>0</td>\n",
       "      <td>0</td>\n",
       "      <td>1</td>\n",
       "      <td>19</td>\n",
       "      <td>0</td>\n",
       "    </tr>\n",
       "    <tr>\n",
       "      <th>1095</th>\n",
       "      <td>0</td>\n",
       "      <td>6</td>\n",
       "      <td>0</td>\n",
       "      <td>13</td>\n",
       "      <td>4</td>\n",
       "      <td>10</td>\n",
       "      <td>3</td>\n",
       "      <td>1</td>\n",
       "      <td>1</td>\n",
       "      <td>0</td>\n",
       "      <td>0</td>\n",
       "      <td>0</td>\n",
       "      <td>19</td>\n",
       "      <td>0</td>\n",
       "    </tr>\n",
       "  </tbody>\n",
       "</table>\n",
       "</div>"
      ]
     },
     "metadata": {
      "application/vnd.databricks.v1+output": {
       "addedWidgets": {},
       "arguments": {},
       "data": "<div>\n<style scoped>\n    .dataframe tbody tr th:only-of-type {\n        vertical-align: middle;\n    }\n\n    .dataframe tbody tr th {\n        vertical-align: top;\n    }\n\n    .dataframe thead th {\n        text-align: right;\n    }\n</style>\n<table border=\"1\" class=\"dataframe\">\n  <thead>\n    <tr style=\"text-align: right;\">\n      <th></th>\n      <th>age</th>\n      <th>workclass</th>\n      <th>fnlwgt</th>\n      <th>education-num</th>\n      <th>marital-status</th>\n      <th>occupation</th>\n      <th>relationship</th>\n      <th>race</th>\n      <th>sex</th>\n      <th>capital-gain</th>\n      <th>capital-loss</th>\n      <th>hours-per-week</th>\n      <th>native-country</th>\n      <th>income</th>\n    </tr>\n  </thead>\n  <tbody>\n    <tr>\n      <th>11</th>\n      <td>0</td>\n      <td>7</td>\n      <td>0</td>\n      <td>13</td>\n      <td>2</td>\n      <td>10</td>\n      <td>0</td>\n      <td>1</td>\n      <td>1</td>\n      <td>0</td>\n      <td>0</td>\n      <td>1</td>\n      <td>19</td>\n      <td>1</td>\n    </tr>\n    <tr>\n      <th>892</th>\n      <td>0</td>\n      <td>4</td>\n      <td>0</td>\n      <td>11</td>\n      <td>2</td>\n      <td>1</td>\n      <td>5</td>\n      <td>1</td>\n      <td>0</td>\n      <td>0</td>\n      <td>0</td>\n      <td>1</td>\n      <td>19</td>\n      <td>0</td>\n    </tr>\n    <tr>\n      <th>968</th>\n      <td>1</td>\n      <td>4</td>\n      <td>0</td>\n      <td>13</td>\n      <td>2</td>\n      <td>4</td>\n      <td>0</td>\n      <td>1</td>\n      <td>1</td>\n      <td>0</td>\n      <td>0</td>\n      <td>1</td>\n      <td>19</td>\n      <td>1</td>\n    </tr>\n    <tr>\n      <th>1029</th>\n      <td>1</td>\n      <td>5</td>\n      <td>0</td>\n      <td>14</td>\n      <td>3</td>\n      <td>12</td>\n      <td>1</td>\n      <td>1</td>\n      <td>1</td>\n      <td>0</td>\n      <td>0</td>\n      <td>1</td>\n      <td>19</td>\n      <td>0</td>\n    </tr>\n    <tr>\n      <th>1095</th>\n      <td>0</td>\n      <td>6</td>\n      <td>0</td>\n      <td>13</td>\n      <td>4</td>\n      <td>10</td>\n      <td>3</td>\n      <td>1</td>\n      <td>1</td>\n      <td>0</td>\n      <td>0</td>\n      <td>0</td>\n      <td>19</td>\n      <td>0</td>\n    </tr>\n  </tbody>\n</table>\n</div>",
       "datasetInfos": [],
       "metadata": {},
       "removedWidgets": [],
       "textData": null,
       "type": "htmlSandbox"
      }
     },
     "output_type": "display_data"
    }
   ],
   "source": [
    "in_data = df[df['native-country'] == 19]#India\n",
    "print(in_data.shape)\n",
    "in_data.head()"
   ]
  },
  {
   "cell_type": "code",
   "execution_count": 0,
   "metadata": {
    "application/vnd.databricks.v1+cell": {
     "cellMetadata": {
      "byteLimit": 2048000,
      "rowLimit": 10000
     },
     "inputWidgets": {},
     "nuid": "bd469eef-7284-4198-983e-abf88db8c19f",
     "showTitle": false,
     "tableResultSettingsMap": {},
     "title": ""
    }
   },
   "outputs": [
    {
     "output_type": "stream",
     "name": "stderr",
     "output_type": "stream",
     "text": [
      "\r  0%|          | 0/1700 [00:00<?, ?it/s]\rGen. (0.00) | Discrim. (0.00):   0%|          | 0/1700 [00:00<?, ?it/s]\rGen. (1.38) | Discrim. (0.01):   0%|          | 0/1700 [00:00<?, ?it/s]\rGen. (1.35) | Discrim. (-0.03):   0%|          | 0/1700 [00:00<?, ?it/s]\rGen. (1.30) | Discrim. (-0.05):   0%|          | 0/1700 [00:00<?, ?it/s]\rGen. (1.30) | Discrim. (-0.05):   0%|          | 3/1700 [00:00<01:17, 21.76it/s]\rGen. (1.31) | Discrim. (-0.10):   0%|          | 3/1700 [00:00<01:17, 21.76it/s]\rGen. (1.25) | Discrim. (-0.12):   0%|          | 3/1700 [00:00<01:17, 21.76it/s]\rGen. (1.27) | Discrim. (-0.15):   0%|          | 3/1700 [00:00<01:17, 21.76it/s]\rGen. (1.27) | Discrim. (-0.15):   0%|          | 6/1700 [00:00<01:17, 21.82it/s]\rGen. (1.22) | Discrim. (-0.18):   0%|          | 6/1700 [00:00<01:17, 21.82it/s]\rGen. (1.22) | Discrim. (-0.23):   0%|          | 6/1700 [00:00<01:17, 21.82it/s]\rGen. (1.32) | Discrim. (-0.24):   0%|          | 6/1700 [00:00<01:17, 21.82it/s]\rGen. (1.32) | Discrim. (-0.24):   1%|          | 9/1700 [00:00<01:18, 21.53it/s]\rGen. (1.26) | Discrim. (-0.21):   1%|          | 9/1700 [00:00<01:18, 21.53it/s]\rGen. (1.16) | Discrim. (-0.32):   1%|          | 9/1700 [00:00<01:18, 21.53it/s]\rGen. (1.20) | Discrim. (-0.38):   1%|          | 9/1700 [00:00<01:18, 21.53it/s]\rGen. (1.20) | Discrim. (-0.38):   1%|          | 12/1700 [00:00<01:17, 21.64it/s]\rGen. (1.12) | Discrim. (-0.40):   1%|          | 12/1700 [00:00<01:17, 21.64it/s]\rGen. (1.28) | Discrim. (-0.49):   1%|          | 12/1700 [00:00<01:17, 21.64it/s]\rGen. (0.98) | Discrim. (-0.50):   1%|          | 12/1700 [00:00<01:17, 21.64it/s]\rGen. (0.98) | Discrim. (-0.50):   1%|          | 15/1700 [00:00<01:18, 21.44it/s]\rGen. (0.99) | Discrim. (-0.63):   1%|          | 15/1700 [00:00<01:18, 21.44it/s]\rGen. (0.97) | Discrim. (-0.66):   1%|          | 15/1700 [00:00<01:18, 21.44it/s]\rGen. (0.91) | Discrim. (-0.62):   1%|          | 15/1700 [00:00<01:18, 21.44it/s]\rGen. (0.91) | Discrim. (-0.62):   1%|          | 18/1700 [00:00<01:18, 21.32it/s]\rGen. (0.75) | Discrim. (-0.62):   1%|          | 18/1700 [00:00<01:18, 21.32it/s]\rGen. (0.64) | Discrim. (-0.79):   1%|          | 18/1700 [00:00<01:18, 21.32it/s]\rGen. (0.70) | Discrim. (-0.74):   1%|          | 18/1700 [00:00<01:18, 21.32it/s]\rGen. (0.70) | Discrim. (-0.74):   1%|          | 21/1700 [00:00<01:18, 21.39it/s]\rGen. (0.50) | Discrim. (-0.81):   1%|          | 21/1700 [00:01<01:18, 21.39it/s]\rGen. (0.66) | Discrim. (-0.75):   1%|          | 21/1700 [00:01<01:18, 21.39it/s]\rGen. (0.45) | Discrim. (-0.87):   1%|          | 21/1700 [00:01<01:18, 21.39it/s]\rGen. (0.45) | Discrim. (-0.87):   1%|▏         | 24/1700 [00:01<01:18, 21.43it/s]\rGen. (0.52) | Discrim. (-0.66):   1%|▏         | 24/1700 [00:01<01:18, 21.43it/s]\rGen. (0.48) | Discrim. (-0.75):   1%|▏         | 24/1700 [00:01<01:18, 21.43it/s]\rGen. (0.41) | Discrim. (-0.61):   1%|▏         | 24/1700 [00:01<01:18, 21.43it/s]\rGen. (0.41) | Discrim. (-0.61):   2%|▏         | 27/1700 [00:01<01:19, 21.00it/s]\rGen. (0.32) | Discrim. (-0.71):   2%|▏         | 27/1700 [00:01<01:19, 21.00it/s]\rGen. (0.36) | Discrim. (-0.48):   2%|▏         | 27/1700 [00:01<01:19, 21.00it/s]\rGen. (0.27) | Discrim. (-0.54):   2%|▏         | 27/1700 [00:01<01:19, 21.00it/s]\rGen. (0.27) | Discrim. (-0.54):   2%|▏         | 30/1700 [00:01<01:19, 21.03it/s]\rGen. (0.26) | Discrim. (-0.50):   2%|▏         | 30/1700 [00:01<01:19, 21.03it/s]\rGen. (0.08) | Discrim. (-0.50):   2%|▏         | 30/1700 [00:01<01:19, 21.03it/s]\rGen. (0.28) | Discrim. (-0.20):   2%|▏         | 30/1700 [00:01<01:19, 21.03it/s]\rGen. (0.28) | Discrim. (-0.20):   2%|▏         | 33/1700 [00:01<01:19, 20.89it/s]\rGen. (0.41) | Discrim. (-0.36):   2%|▏         | 33/1700 [00:01<01:19, 20.89it/s]\rGen. (0.11) | Discrim. (-0.44):   2%|▏         | 33/1700 [00:01<01:19, 20.89it/s]\rGen. (-0.20) | Discrim. (-0.41):   2%|▏         | 33/1700 [00:01<01:19, 20.89it/s]\rGen. (-0.20) | Discrim. (-0.41):   2%|▏         | 36/1700 [00:01<01:25, 19.40it/s]\rGen. (0.05) | Discrim. (-0.31):   2%|▏         | 36/1700 [00:01<01:25, 19.40it/s] \rGen. (-0.04) | Discrim. (-0.19):   2%|▏         | 36/1700 [00:01<01:25, 19.40it/s]\rGen. (0.05) | Discrim. (-0.20):   2%|▏         | 36/1700 [00:01<01:25, 19.40it/s] \rGen. (0.05) | Discrim. (-0.20):   2%|▏         | 39/1700 [00:01<01:23, 19.86it/s]\rGen. (0.11) | Discrim. (-0.21):   2%|▏         | 39/1700 [00:01<01:23, 19.86it/s]\rGen. (0.05) | Discrim. (-0.23):   2%|▏         | 39/1700 [00:01<01:23, 19.86it/s]\rGen. (-0.23) | Discrim. (-0.24):   2%|▏         | 39/1700 [00:02<01:23, 19.86it/s]\rGen. (-0.23) | Discrim. (-0.24):   2%|▏         | 42/1700 [00:02<01:21, 20.34it/s]\rGen. (-0.41) | Discrim. (0.17):   2%|▏         | 42/1700 [00:02<01:21, 20.34it/s] \rGen. (-0.22) | Discrim. (0.29):   2%|▏         | 42/1700 [00:02<01:21, 20.34it/s]\rGen. (-0.39) | Discrim. (0.17):   2%|▏         | 42/1700 [00:02<01:21, 20.34it/s]\rGen. (-0.39) | Discrim. (0.17):   3%|▎         | 45/1700 [00:02<01:19, 20.78it/s]\rGen. (-0.32) | Discrim. (-0.09):   3%|▎         | 45/1700 [00:02<01:19, 20.78it/s]\rGen. (-0.36) | Discrim. (0.11):   3%|▎         | 45/1700 [00:02<01:19, 20.78it/s] \rGen. (-0.31) | Discrim. (0.08):   3%|▎         | 45/1700 [00:02<01:19, 20.78it/s]\rGen. (-0.31) | Discrim. (0.08):   3%|▎         | 48/1700 [00:02<01:18, 21.05it/s]\rGen. (-0.10) | Discrim. (0.19):   3%|▎         | 48/1700 [00:02<01:18, 21.05it/s]\rGen. (-0.43) | Discrim. (0.10):   3%|▎         | 48/1700 [00:02<01:18, 21.05it/s]\rGen. (-0.16) | Discrim. (0.11):   3%|▎         | 48/1700 [00:02<01:18, 21.05it/s]\rGen. (-0.16) | Discrim. (0.11):   3%|▎         | 51/1700 [00:02<01:18, 21.07it/s]\rGen. (-0.14) | Discrim. (0.24):   3%|▎         | 51/1700 [00:02<01:18, 21.07it/s]\rGen. (-0.18) | Discrim. (0.32):   3%|▎         | 51/1700 [00:02<01:18, 21.07it/s]\rGen. (-0.03) | Discrim. (0.02):   3%|▎         | 51/1700 [00:02<01:18, 21.07it/s]\rGen. (-0.03) | Discrim. (0.02):   3%|▎         | 54/1700 [00:02<01:17, 21.16it/s]\rGen. (-0.41) | Discrim. (0.20):   3%|▎         | 54/1700 [00:02<01:17, 21.16it/s]\rGen. (-0.35) | Discrim. (0.19):   3%|▎         | 54/1700 [00:02<01:17, 21.16it/s]\rGen. (-0.43) | Discrim. (0.31):   3%|▎         | 54/1700 [00:02<01:17, 21.16it/s]\rGen. (-0.43) | Discrim. (0.31):   3%|▎         | 57/1700 [00:02<01:17, 21.19it/s]\rGen. (-0.26) | Discrim. (0.35):   3%|▎         | 57/1700 [00:02<01:17, 21.19it/s]\rGen. (-0.34) | Discrim. (0.30):   3%|▎         | 57/1700 [00:02<01:17, 21.19it/s]\rGen. (-0.13) | Discrim. (0.18):   3%|▎         | 57/1700 [00:02<01:17, 21.19it/s]\rGen. (-0.13) | Discrim. (0.18):   4%|▎         | 60/1700 [00:02<01:16, 21.34it/s]\rGen. (-0.14) | Discrim. (0.26):   4%|▎         | 60/1700 [00:02<01:16, 21.34it/s]\rGen. (-0.07) | Discrim. (0.31):   4%|▎         | 60/1700 [00:02<01:16, 21.34it/s]\rGen. (-0.02) | Discrim. (0.25):   4%|▎         | 60/1700 [00:02<01:16, 21.34it/s]\rGen. (-0.02) | Discrim. (0.25):   4%|▎         | 63/1700 [00:02<01:15, 21.56it/s]\rGen. (-0.02) | Discrim. (0.18):   4%|▎         | 63/1700 [00:03<01:15, 21.56it/s]\rGen. (-0.10) | Discrim. (0.19):   4%|▎         | 63/1700 [00:03<01:15, 21.56it/s]\rGen. (-0.02) | Discrim. (0.45):   4%|▎         | 63/1700 [00:03<01:15, 21.56it/s]\rGen. (-0.02) | Discrim. (0.45):   4%|▍         | 66/1700 [00:03<01:15, 21.75it/s]\rGen. (0.03) | Discrim. (-0.02):   4%|▍         | 66/1700 [00:03<01:15, 21.75it/s]\rGen. (-0.14) | Discrim. (0.28):   4%|▍         | 66/1700 [00:03<01:15, 21.75it/s]\rGen. (-0.32) | Discrim. (0.15):   4%|▍         | 66/1700 [00:03<01:15, 21.75it/s]\rGen. (-0.32) | Discrim. (0.15):   4%|▍         | 69/1700 [00:03<01:14, 21.90it/s]\rGen. (-0.13) | Discrim. (0.17):   4%|▍         | 69/1700 [00:03<01:14, 21.90it/s]\rGen. (0.01) | Discrim. (0.08):   4%|▍         | 69/1700 [00:03<01:14, 21.90it/s] \rGen. (-0.23) | Discrim. (0.29):   4%|▍         | 69/1700 [00:03<01:14, 21.90it/s]\rGen. (-0.23) | Discrim. (0.29):   4%|▍         | 72/1700 [00:03<01:14, 21.81it/s]\rGen. (-0.03) | Discrim. (0.17):   4%|▍         | 72/1700 [00:03<01:14, 21.81it/s]\rGen. (0.00) | Discrim. (0.12):   4%|▍         | 72/1700 [00:03<01:14, 21.81it/s] \rGen. (-0.02) | Discrim. (0.27):   4%|▍         | 72/1700 [00:03<01:14, 21.81it/s]\rGen. (-0.02) | Discrim. (0.27):   4%|▍         | 75/1700 [00:03<01:14, 21.73it/s]\rGen. (0.11) | Discrim. (0.24):   4%|▍         | 75/1700 [00:03<01:14, 21.73it/s] \rGen. (0.22) | Discrim. (0.31):   4%|▍         | 75/1700 [00:03<01:14, 21.73it/s]\rGen. (-0.05) | Discrim. (0.22):   4%|▍         | 75/1700 [00:03<01:14, 21.73it/s]\rGen. (-0.05) | Discrim. (0.22):   5%|▍         | 78/1700 [00:03<01:14, 21.74it/s]\rGen. (0.12) | Discrim. (0.16):   5%|▍         | 78/1700 [00:03<01:14, 21.74it/s] \rGen. (0.07) | Discrim. (0.11):   5%|▍         | 78/1700 [00:03<01:14, 21.74it/s]\rGen. (0.18) | Discrim. (0.14):   5%|▍         | 78/1700 [00:03<01:14, 21.74it/s]\rGen. (0.18) | Discrim. (0.14):   5%|▍         | 81/1700 [00:03<01:14, 21.67it/s]\rGen. (-0.01) | Discrim. (0.09):   5%|▍         | 81/1700 [00:03<01:14, 21.67it/s]\rGen. (0.06) | Discrim. (0.00):   5%|▍         | 81/1700 [00:03<01:14, 21.67it/s] \rGen. (-0.00) | Discrim. (-0.01):   5%|▍         | 81/1700 [00:03<01:14, 21.67it/s]\rGen. (-0.00) | Discrim. (-0.01):   5%|▍         | 84/1700 [00:03<01:15, 21.46it/s]\rGen. (0.17) | Discrim. (0.06):   5%|▍         | 84/1700 [00:04<01:15, 21.46it/s]  \rGen. (0.15) | Discrim. (0.12):   5%|▍         | 84/1700 [00:04<01:15, 21.46it/s]\rGen. (0.18) | Discrim. (0.06):   5%|▍         | 84/1700 [00:04<01:15, 21.46it/s]\rGen. (0.18) | Discrim. (0.06):   5%|▌         | 87/1700 [00:04<01:15, 21.29it/s]\rGen. (0.17) | Discrim. (0.15):   5%|▌         | 87/1700 [00:04<01:15, 21.29it/s]\rGen. (0.23) | Discrim. (0.14):   5%|▌         | 87/1700 [00:04<01:15, 21.29it/s]\rGen. (0.08) | Discrim. (0.03):   5%|▌         | 87/1700 [00:04<01:15, 21.29it/s]\rGen. (0.08) | Discrim. (0.03):   5%|▌         | 90/1700 [00:04<01:15, 21.38it/s]\rGen. (0.07) | Discrim. (0.03):   5%|▌         | 90/1700 [00:04<01:15, 21.38it/s]\rGen. (0.04) | Discrim. (-0.01):   5%|▌         | 90/1700 [00:04<01:15, 21.38it/s]\rGen. (0.10) | Discrim. (0.21):   5%|▌         | 90/1700 [00:04<01:15, 21.38it/s] \rGen. (0.10) | Discrim. (0.21):   5%|▌         | 93/1700 [00:04<01:14, 21.43it/s]\rGen. (0.31) | Discrim. (0.13):   5%|▌         | 93/1700 [00:04<01:14, 21.43it/s]\rGen. (0.10) | Discrim. (-0.12):   5%|▌         | 93/1700 [00:04<01:14, 21.43it/s]\rGen. (-0.07) | Discrim. (-0.05):   5%|▌         | 93/1700 [00:04<01:14, 21.43it/s]\rGen. (-0.07) | Discrim. (-0.05):   6%|▌         | 96/1700 [00:04<01:14, 21.42it/s]\rGen. (0.41) | Discrim. (0.17):   6%|▌         | 96/1700 [00:04<01:14, 21.42it/s]  \rGen. (0.00) | Discrim. (0.03):   6%|▌         | 96/1700 [00:04<01:14, 21.42it/s]\rGen. (0.03) | Discrim. (0.06):   6%|▌         | 96/1700 [00:04<01:14, 21.42it/s]\rGen. (0.03) | Discrim. (0.06):   6%|▌         | 99/1700 [00:04<01:23, 19.09it/s]\rGen. (0.13) | Discrim. (0.14):   6%|▌         | 99/1700 [00:04<01:23, 19.09it/s]\rGen. (0.07) | Discrim. (0.04):   6%|▌         | 99/1700 [00:04<01:23, 19.09it/s]\rGen. (0.27) | Discrim. (0.09):   6%|▌         | 99/1700 [00:04<01:23, 19.09it/s]\rGen. (0.27) | Discrim. (0.09):   6%|▌         | 102/1700 [00:04<01:21, 19.63it/s]\rGen. (0.12) | Discrim. (-0.12):   6%|▌         | 102/1700 [00:04<01:21, 19.63it/s]\rGen. (0.01) | Discrim. (-0.05):   6%|▌         | 102/1700 [00:04<01:21, 19.63it/s]\rGen. (-0.04) | Discrim. (0.02):   6%|▌         | 102/1700 [00:04<01:21, 19.63it/s]\rGen. (-0.04) | Discrim. (0.02):   6%|▌         | 105/1700 [00:04<01:19, 20.17it/s]\rGen. (0.14) | Discrim. (-0.03):   6%|▌         | 105/1700 [00:05<01:19, 20.17it/s]\rGen. (0.00) | Discrim. (0.23):   6%|▌         | 105/1700 [00:05<01:19, 20.17it/s] \rGen. (0.18) | Discrim. (0.04):   6%|▌         | 105/1700 [00:05<01:19, 20.17it/s]\rGen. (0.18) | Discrim. (0.04):   6%|▋         | 108/1700 [00:05<01:17, 20.59it/s]\rGen. (0.27) | Discrim. (0.01):   6%|▋         | 108/1700 [00:05<01:17, 20.59it/s]\rGen. (-0.02) | Discrim. (0.05):   6%|▋         | 108/1700 [00:05<01:17, 20.59it/s]\rGen. (0.11) | Discrim. (-0.08):   6%|▋         | 108/1700 [00:05<01:17, 20.59it/s]\rGen. (0.11) | Discrim. (-0.08):   7%|▋         | 111/1700 [00:05<01:15, 20.99it/s]\rGen. (0.00) | Discrim. (0.04):   7%|▋         | 111/1700 [00:05<01:15, 20.99it/s] \rGen. (0.16) | Discrim. (-0.02):   7%|▋         | 111/1700 [00:05<01:15, 20.99it/s]\rGen. (-0.10) | Discrim. (-0.15):   7%|▋         | 111/1700 [00:05<01:15, 20.99it/s]\rGen. (-0.10) | Discrim. (-0.15):   7%|▋         | 114/1700 [00:05<01:18, 20.18it/s]\rGen. (-0.10) | Discrim. (0.04):   7%|▋         | 114/1700 [00:05<01:18, 20.18it/s] \rGen. (0.05) | Discrim. (-0.00):   7%|▋         | 114/1700 [00:05<01:18, 20.18it/s]\rGen. (0.02) | Discrim. (0.08):   7%|▋         | 114/1700 [00:05<01:18, 20.18it/s] \rGen. (0.02) | Discrim. (0.08):   7%|▋         | 117/1700 [00:05<01:17, 20.53it/s]\rGen. (0.00) | Discrim. (0.10):   7%|▋         | 117/1700 [00:05<01:17, 20.53it/s]\rGen. (-0.07) | Discrim. (0.16):   7%|▋         | 117/1700 [00:05<01:17, 20.53it/s]\rGen. (-0.01) | Discrim. (-0.07):   7%|▋         | 117/1700 [00:05<01:17, 20.53it/s]\rGen. (-0.01) | Discrim. (-0.07):   7%|▋         | 120/1700 [00:05<01:16, 20.76it/s]\rGen. (0.38) | Discrim. (0.12):   7%|▋         | 120/1700 [00:05<01:16, 20.76it/s]  \rGen. (-0.00) | Discrim. (0.26):   7%|▋         | 120/1700 [00:05<01:16, 20.76it/s]\rGen. (-0.18) | Discrim. (0.03):   7%|▋         | 120/1700 [00:05<01:16, 20.76it/s]\rGen. (-0.18) | Discrim. (0.03):   7%|▋         | 123/1700 [00:05<01:15, 20.99it/s]\rGen. (-0.15) | Discrim. (0.17):   7%|▋         | 123/1700 [00:05<01:15, 20.99it/s]\rGen. (0.15) | Discrim. (0.08):   7%|▋         | 123/1700 [00:05<01:15, 20.99it/s] \rGen. (-0.23) | Discrim. (0.11):   7%|▋         | 123/1700 [00:05<01:15, 20.99it/s]\rGen. (-0.23) | Discrim. (0.11):   7%|▋         | 126/1700 [00:05<01:14, 21.11it/s]\rGen. (0.11) | Discrim. (0.06):   7%|▋         | 126/1700 [00:06<01:14, 21.11it/s] \rGen. (0.09) | Discrim. (0.22):   7%|▋         | 126/1700 [00:06<01:14, 21.11it/s]\rGen. (-0.03) | Discrim. (-0.04):   7%|▋         | 126/1700 [00:06<01:14, 21.11it/s]\rGen. (-0.03) | Discrim. (-0.04):   8%|▊         | 129/1700 [00:06<01:21, 19.25it/s]\rGen. (0.01) | Discrim. (0.19):   8%|▊         | 129/1700 [00:06<01:21, 19.25it/s]  \rGen. (0.15) | Discrim. (-0.02):   8%|▊         | 129/1700 [00:06<01:21, 19.25it/s]\rGen. (0.07) | Discrim. (0.22):   8%|▊         | 129/1700 [00:06<01:21, 19.25it/s] \rGen. (0.07) | Discrim. (0.22):   8%|▊         | 132/1700 [00:06<01:19, 19.69it/s]\rGen. (-0.05) | Discrim. (0.02):   8%|▊         | 132/1700 [00:06<01:19, 19.69it/s]\rGen. (0.12) | Discrim. (-0.02):   8%|▊         | 132/1700 [00:06<01:19, 19.69it/s]\rGen. (0.02) | Discrim. (0.17):   8%|▊         | 132/1700 [00:06<01:19, 19.69it/s] \rGen. (0.02) | Discrim. (0.17):   8%|▊         | 135/1700 [00:06<01:17, 20.14it/s]\rGen. (-0.10) | Discrim. (0.09):   8%|▊         | 135/1700 [00:06<01:17, 20.14it/s]\rGen. (-0.06) | Discrim. (0.02):   8%|▊         | 135/1700 [00:06<01:17, 20.14it/s]\rGen. (0.08) | Discrim. (-0.01):   8%|▊         | 135/1700 [00:06<01:17, 20.14it/s]\rGen. (0.08) | Discrim. (-0.01):   8%|▊         | 138/1700 [00:06<01:16, 20.35it/s]\rGen. (-0.11) | Discrim. (0.10):   8%|▊         | 138/1700 [00:06<01:16, 20.35it/s]\rGen. (0.17) | Discrim. (0.07):   8%|▊         | 138/1700 [00:06<01:16, 20.35it/s] \rGen. (0.21) | Discrim. (-0.03):   8%|▊         | 138/1700 [00:06<01:16, 20.35it/s]\rGen. (0.21) | Discrim. (-0.03):   8%|▊         | 141/1700 [00:06<01:20, 19.46it/s]\rGen. (-0.08) | Discrim. (0.06):   8%|▊         | 141/1700 [00:06<01:20, 19.46it/s]\rGen. (0.03) | Discrim. (0.18):   8%|▊         | 141/1700 [00:06<01:20, 19.46it/s] \rGen. (0.03) | Discrim. (0.18):   8%|▊         | 143/1700 [00:06<01:25, 18.21it/s]\rGen. (-0.02) | Discrim. (-0.03):   8%|▊         | 143/1700 [00:06<01:25, 18.21it/s]\rGen. (-0.04) | Discrim. (0.22):   8%|▊         | 143/1700 [00:07<01:25, 18.21it/s] \rGen. (-0.04) | Discrim. (0.22):   9%|▊         | 145/1700 [00:07<01:29, 17.38it/s]\rGen. (0.09) | Discrim. (-0.10):   9%|▊         | 145/1700 [00:07<01:29, 17.38it/s]\rGen. (0.11) | Discrim. (0.06):   9%|▊         | 145/1700 [00:07<01:29, 17.38it/s] \rGen. (0.22) | Discrim. (-0.13):   9%|▊         | 145/1700 [00:07<01:29, 17.38it/s]\rGen. (0.22) | Discrim. (-0.13):   9%|▊         | 148/1700 [00:07<01:23, 18.55it/s]\rGen. (0.10) | Discrim. (0.16):   9%|▊         | 148/1700 [00:07<01:23, 18.55it/s] \rGen. (0.05) | Discrim. (0.22):   9%|▊         | 148/1700 [00:07<01:23, 18.55it/s]\rGen. (0.05) | Discrim. (0.14):   9%|▊         | 148/1700 [00:07<01:23, 18.55it/s]\rGen. (0.05) | Discrim. (0.14):   9%|▉         | 151/1700 [00:07<01:19, 19.56it/s]\rGen. (0.02) | Discrim. (0.00):   9%|▉         | 151/1700 [00:07<01:19, 19.56it/s]\rGen. (-0.05) | Discrim. (0.04):   9%|▉         | 151/1700 [00:07<01:19, 19.56it/s]\rGen. (0.02) | Discrim. (0.03):   9%|▉         | 151/1700 [00:07<01:19, 19.56it/s] \rGen. (0.02) | Discrim. (0.03):   9%|▉         | 154/1700 [00:07<01:17, 19.89it/s]\rGen. (0.03) | Discrim. (0.21):   9%|▉         | 154/1700 [00:07<01:17, 19.89it/s]\rGen. (0.05) | Discrim. (0.09):   9%|▉         | 154/1700 [00:07<01:17, 19.89it/s]\rGen. (-0.15) | Discrim. (-0.11):   9%|▉         | 154/1700 [00:07<01:17, 19.89it/s]\rGen. (-0.15) | Discrim. (-0.11):   9%|▉         | 157/1700 [00:07<01:16, 20.19it/s]\rGen. (0.04) | Discrim. (-0.00):   9%|▉         | 157/1700 [00:07<01:16, 20.19it/s] \rGen. (0.03) | Discrim. (0.04):   9%|▉         | 157/1700 [00:07<01:16, 20.19it/s] \rGen. (0.08) | Discrim. (0.08):   9%|▉         | 157/1700 [00:07<01:16, 20.19it/s]\rGen. (0.08) | Discrim. (0.08):   9%|▉         | 160/1700 [00:07<01:14, 20.58it/s]\rGen. (0.16) | Discrim. (0.10):   9%|▉         | 160/1700 [00:07<01:14, 20.58it/s]\rGen. (0.09) | Discrim. (-0.10):   9%|▉         | 160/1700 [00:07<01:14, 20.58it/s]\rGen. (-0.07) | Discrim. (-0.02):   9%|▉         | 160/1700 [00:07<01:14, 20.58it/s]\rGen. (-0.07) | Discrim. (-0.02):  10%|▉         | 163/1700 [00:07<01:14, 20.71it/s]\rGen. (0.22) | Discrim. (0.18):  10%|▉         | 163/1700 [00:07<01:14, 20.71it/s]  \rGen. (0.10) | Discrim. (-0.01):  10%|▉         | 163/1700 [00:07<01:14, 20.71it/s]\rGen. (0.01) | Discrim. (0.11):  10%|▉         | 163/1700 [00:08<01:14, 20.71it/s] \rGen. (0.01) | Discrim. (0.11):  10%|▉         | 166/1700 [00:08<01:14, 20.69it/s]\rGen. (-0.19) | Discrim. (0.09):  10%|▉         | 166/1700 [00:08<01:14, 20.69it/s]\rGen. (-0.07) | Discrim. (0.12):  10%|▉         | 166/1700 [00:08<01:14, 20.69it/s]\rGen. (-0.01) | Discrim. (0.17):  10%|▉         | 166/1700 [00:08<01:14, 20.69it/s]\rGen. (-0.01) | Discrim. (0.17):  10%|▉         | 169/1700 [00:08<01:12, 21.00it/s]\rGen. (0.04) | Discrim. (-0.10):  10%|▉         | 169/1700 [00:08<01:12, 21.00it/s]\rGen. (0.04) | Discrim. (0.20):  10%|▉         | 169/1700 [00:08<01:12, 21.00it/s] \rGen. (0.07) | Discrim. (0.02):  10%|▉         | 169/1700 [00:08<01:12, 21.00it/s]\rGen. (0.07) | Discrim. (0.02):  10%|█         | 172/1700 [00:08<01:14, 20.39it/s]\rGen. (0.03) | Discrim. (-0.20):  10%|█         | 172/1700 [00:08<01:14, 20.39it/s]\rGen. (-0.16) | Discrim. (0.02):  10%|█         | 172/1700 [00:08<01:14, 20.39it/s]\rGen. (-0.06) | Discrim. (0.17):  10%|█         | 172/1700 [00:08<01:14, 20.39it/s]\rGen. (-0.06) | Discrim. (0.17):  10%|█         | 175/1700 [00:08<01:13, 20.66it/s]\rGen. (-0.12) | Discrim. (0.05):  10%|█         | 175/1700 [00:08<01:13, 20.66it/s]\rGen. (0.05) | Discrim. (0.19):  10%|█         | 175/1700 [00:08<01:13, 20.66it/s] \rGen. (0.12) | Discrim. (-0.03):  10%|█         | 175/1700 [00:08<01:13, 20.66it/s]\rGen. (0.12) | Discrim. (-0.03):  10%|█         | 178/1700 [00:08<01:13, 20.61it/s]\rGen. (0.26) | Discrim. (-0.08):  10%|█         | 178/1700 [00:08<01:13, 20.61it/s]\rGen. (-0.20) | Discrim. (-0.03):  10%|█         | 178/1700 [00:08<01:13, 20.61it/s]\rGen. (0.07) | Discrim. (-0.08):  10%|█         | 178/1700 [00:08<01:13, 20.61it/s] \rGen. (0.07) | Discrim. (-0.08):  11%|█         | 181/1700 [00:08<01:13, 20.74it/s]\rGen. (0.17) | Discrim. (-0.14):  11%|█         | 181/1700 [00:08<01:13, 20.74it/s]\rGen. (0.12) | Discrim. (0.04):  11%|█         | 181/1700 [00:08<01:13, 20.74it/s] \rGen. (0.11) | Discrim. (0.05):  11%|█         | 181/1700 [00:08<01:13, 20.74it/s]\rGen. (0.11) | Discrim. (0.05):  11%|█         | 184/1700 [00:08<01:11, 21.07it/s]\rGen. (0.20) | Discrim. (-0.03):  11%|█         | 184/1700 [00:08<01:11, 21.07it/s]\rGen. (-0.09) | Discrim. (0.11):  11%|█         | 184/1700 [00:09<01:11, 21.07it/s]\rGen. (0.06) | Discrim. (0.28):  11%|█         | 184/1700 [00:09<01:11, 21.07it/s] \rGen. (0.06) | Discrim. (0.28):  11%|█         | 187/1700 [00:09<01:20, 18.89it/s]\rGen. (0.33) | Discrim. (-0.02):  11%|█         | 187/1700 [00:09<01:20, 18.89it/s]\rGen. (0.06) | Discrim. (-0.04):  11%|█         | 187/1700 [00:09<01:20, 18.89it/s]\rGen. (0.06) | Discrim. (-0.04):  11%|█         | 189/1700 [00:09<01:24, 17.88it/s]\rGen. (0.07) | Discrim. (0.08):  11%|█         | 189/1700 [00:09<01:24, 17.88it/s] \rGen. (0.08) | Discrim. (0.11):  11%|█         | 189/1700 [00:09<01:24, 17.88it/s]\rGen. (0.08) | Discrim. (0.11):  11%|█         | 191/1700 [00:09<01:24, 17.81it/s]\rGen. (0.05) | Discrim. (0.14):  11%|█         | 191/1700 [00:09<01:24, 17.81it/s]\rGen. (0.10) | Discrim. (-0.11):  11%|█         | 191/1700 [00:09<01:24, 17.81it/s]\rGen. (0.26) | Discrim. (0.02):  11%|█         | 191/1700 [00:09<01:24, 17.81it/s] \rGen. (0.26) | Discrim. (0.02):  11%|█▏        | 194/1700 [00:09<01:21, 18.59it/s]\rGen. (0.08) | Discrim. (-0.00):  11%|█▏        | 194/1700 [00:09<01:21, 18.59it/s]\rGen. (0.01) | Discrim. (0.03):  11%|█▏        | 194/1700 [00:09<01:21, 18.59it/s] \rGen. (0.08) | Discrim. (-0.03):  11%|█▏        | 194/1700 [00:09<01:21, 18.59it/s]\rGen. (0.08) | Discrim. (-0.03):  12%|█▏        | 197/1700 [00:09<01:17, 19.38it/s]\rGen. (0.34) | Discrim. (0.11):  12%|█▏        | 197/1700 [00:09<01:17, 19.38it/s] \rGen. (0.14) | Discrim. (0.20):  12%|█▏        | 197/1700 [00:09<01:17, 19.38it/s]\rGen. (0.28) | Discrim. (0.10):  12%|█▏        | 197/1700 [00:09<01:17, 19.38it/s]\rGen. (0.28) | Discrim. (0.10):  12%|█▏        | 200/1700 [00:09<01:15, 20.00it/s]\rGen. (0.32) | Discrim. (-0.02):  12%|█▏        | 200/1700 [00:09<01:15, 20.00it/s]\rGen. (0.27) | Discrim. (-0.22):  12%|█▏        | 200/1700 [00:09<01:15, 20.00it/s]\rGen. (0.09) | Discrim. (-0.06):  12%|█▏        | 200/1700 [00:09<01:15, 20.00it/s]\rGen. (0.09) | Discrim. (-0.06):  12%|█▏        | 203/1700 [00:09<01:13, 20.47it/s]\rGen. (0.28) | Discrim. (-0.02):  12%|█▏        | 203/1700 [00:09<01:13, 20.47it/s]\rGen. (0.22) | Discrim. (0.01):  12%|█▏        | 203/1700 [00:10<01:13, 20.47it/s] \rGen. (0.17) | Discrim. (0.07):  12%|█▏        | 203/1700 [00:10<01:13, 20.47it/s]\rGen. (0.17) | Discrim. (0.07):  12%|█▏        | 206/1700 [00:10<01:12, 20.57it/s]\rGen. (0.26) | Discrim. (0.23):  12%|█▏        | 206/1700 [00:10<01:12, 20.57it/s]\rGen. (0.31) | Discrim. (0.00):  12%|█▏        | 206/1700 [00:10<01:12, 20.57it/s]\rGen. (0.07) | Discrim. (-0.06):  12%|█▏        | 206/1700 [00:10<01:12, 20.57it/s]\rGen. (0.07) | Discrim. (-0.06):  12%|█▏        | 209/1700 [00:10<01:11, 20.72it/s]\rGen. (0.09) | Discrim. (-0.07):  12%|█▏        | 209/1700 [00:10<01:11, 20.72it/s]\rGen. (0.12) | Discrim. (-0.04):  12%|█▏        | 209/1700 [00:10<01:11, 20.72it/s]\rGen. (0.21) | Discrim. (-0.13):  12%|█▏        | 209/1700 [00:10<01:11, 20.72it/s]\rGen. (0.21) | Discrim. (-0.13):  12%|█▏        | 212/1700 [00:10<01:11, 20.73it/s]\rGen. (0.11) | Discrim. (-0.09):  12%|█▏        | 212/1700 [00:10<01:11, 20.73it/s]\rGen. (0.06) | Discrim. (-0.04):  12%|█▏        | 212/1700 [00:10<01:11, 20.73it/s]\rGen. (0.06) | Discrim. (0.02):  12%|█▏        | 212/1700 [00:10<01:11, 20.73it/s] \rGen. (0.06) | Discrim. (0.02):  13%|█▎        | 215/1700 [00:10<01:11, 20.71it/s]\rGen. (0.16) | Discrim. (-0.03):  13%|█▎        | 215/1700 [00:10<01:11, 20.71it/s]\rGen. (0.12) | Discrim. (0.08):  13%|█▎        | 215/1700 [00:10<01:11, 20.71it/s] \rGen. (0.26) | Discrim. (0.26):  13%|█▎        | 215/1700 [00:10<01:11, 20.71it/s]\rGen. (0.26) | Discrim. (0.26):  13%|█▎        | 218/1700 [00:10<01:12, 20.51it/s]\rGen. (0.25) | Discrim. (-0.09):  13%|█▎        | 218/1700 [00:10<01:12, 20.51it/s]\rGen. (0.08) | Discrim. (-0.05):  13%|█▎        | 218/1700 [00:10<01:12, 20.51it/s]\rGen. (0.35) | Discrim. (0.05):  13%|█▎        | 218/1700 [00:10<01:12, 20.51it/s] \rGen. (0.35) | Discrim. (0.05):  13%|█▎        | 221/1700 [00:10<01:11, 20.77it/s]\rGen. (0.13) | Discrim. (-0.06):  13%|█▎        | 221/1700 [00:10<01:11, 20.77it/s]\rGen. (0.11) | Discrim. (-0.08):  13%|█▎        | 221/1700 [00:10<01:11, 20.77it/s]\rGen. (-0.03) | Discrim. (-0.05):  13%|█▎        | 221/1700 [00:10<01:11, 20.77it/s]\rGen. (-0.03) | Discrim. (-0.05):  13%|█▎        | 224/1700 [00:10<01:09, 21.14it/s]\rGen. (0.24) | Discrim. (0.11):  13%|█▎        | 224/1700 [00:10<01:09, 21.14it/s]  \rGen. (-0.09) | Discrim. (-0.08):  13%|█▎        | 224/1700 [00:11<01:09, 21.14it/s]\rGen. (0.26) | Dis\n\n*** WARNING: max output size exceeded, skipping output. ***\n\n22):  87%|████████▋ | 1481/1700 [01:11<00:10, 20.93it/s]\rGen. (-1.41) | Discrim. (-0.17):  87%|████████▋ | 1481/1700 [01:11<00:10, 20.93it/s]\rGen. (-1.43) | Discrim. (-0.07):  87%|████████▋ | 1481/1700 [01:11<00:10, 20.93it/s]\rGen. (-1.19) | Discrim. (-0.18):  87%|████████▋ | 1481/1700 [01:11<00:10, 20.93it/s]\rGen. (-1.19) | Discrim. (-0.18):  87%|████████▋ | 1484/1700 [01:11<00:10, 21.21it/s]\rGen. (-1.02) | Discrim. (-0.43):  87%|████████▋ | 1484/1700 [01:11<00:10, 21.21it/s]\rGen. (-1.44) | Discrim. (-0.10):  87%|████████▋ | 1484/1700 [01:11<00:10, 21.21it/s]\rGen. (-0.99) | Discrim. (-0.62):  87%|████████▋ | 1484/1700 [01:11<00:10, 21.21it/s]\rGen. (-0.99) | Discrim. (-0.62):  87%|████████▋ | 1487/1700 [01:11<00:10, 21.15it/s]\rGen. (-1.57) | Discrim. (0.23):  87%|████████▋ | 1487/1700 [01:11<00:10, 21.15it/s] \rGen. (-1.25) | Discrim. (-0.20):  87%|████████▋ | 1487/1700 [01:11<00:10, 21.15it/s]\rGen. (-1.50) | Discrim. (-0.12):  87%|████████▋ | 1487/1700 [01:11<00:10, 21.15it/s]\rGen. (-1.50) | Discrim. (-0.12):  88%|████████▊ | 1490/1700 [01:11<00:09, 21.03it/s]\rGen. (-1.37) | Discrim. (-0.13):  88%|████████▊ | 1490/1700 [01:11<00:09, 21.03it/s]\rGen. (-1.05) | Discrim. (-0.21):  88%|████████▊ | 1490/1700 [01:11<00:09, 21.03it/s]\rGen. (-1.07) | Discrim. (-0.07):  88%|████████▊ | 1490/1700 [01:12<00:09, 21.03it/s]\rGen. (-1.07) | Discrim. (-0.07):  88%|████████▊ | 1493/1700 [01:12<00:09, 21.23it/s]\rGen. (-1.30) | Discrim. (-0.04):  88%|████████▊ | 1493/1700 [01:12<00:09, 21.23it/s]\rGen. (-0.64) | Discrim. (0.08):  88%|████████▊ | 1493/1700 [01:12<00:09, 21.23it/s] \rGen. (-1.11) | Discrim. (-0.17):  88%|████████▊ | 1493/1700 [01:12<00:09, 21.23it/s]\rGen. (-1.11) | Discrim. (-0.17):  88%|████████▊ | 1496/1700 [01:12<00:09, 21.36it/s]\rGen. (-1.40) | Discrim. (-0.13):  88%|████████▊ | 1496/1700 [01:12<00:09, 21.36it/s]\rGen. (-1.35) | Discrim. (-0.20):  88%|████████▊ | 1496/1700 [01:12<00:09, 21.36it/s]\rGen. (-1.56) | Discrim. (-0.70):  88%|████████▊ | 1496/1700 [01:12<00:09, 21.36it/s]\rGen. (-1.56) | Discrim. (-0.70):  88%|████████▊ | 1499/1700 [01:12<00:09, 21.60it/s]\rGen. (-1.26) | Discrim. (0.08):  88%|████████▊ | 1499/1700 [01:12<00:09, 21.60it/s] \rGen. (-1.19) | Discrim. (0.04):  88%|████████▊ | 1499/1700 [01:12<00:09, 21.60it/s]\rGen. (-1.30) | Discrim. (-0.50):  88%|████████▊ | 1499/1700 [01:12<00:09, 21.60it/s]\rGen. (-1.30) | Discrim. (-0.50):  88%|████████▊ | 1502/1700 [01:12<00:09, 21.60it/s]\rGen. (-0.96) | Discrim. (-0.14):  88%|████████▊ | 1502/1700 [01:12<00:09, 21.60it/s]\rGen. (-1.25) | Discrim. (-0.05):  88%|████████▊ | 1502/1700 [01:12<00:09, 21.60it/s]\rGen. (-1.18) | Discrim. (-0.10):  88%|████████▊ | 1502/1700 [01:12<00:09, 21.60it/s]\rGen. (-1.18) | Discrim. (-0.10):  89%|████████▊ | 1505/1700 [01:12<00:08, 21.71it/s]\rGen. (-1.08) | Discrim. (-0.19):  89%|████████▊ | 1505/1700 [01:12<00:08, 21.71it/s]\rGen. (-1.38) | Discrim. (-0.23):  89%|████████▊ | 1505/1700 [01:12<00:08, 21.71it/s]\rGen. (-1.56) | Discrim. (0.36):  89%|████████▊ | 1505/1700 [01:12<00:08, 21.71it/s] \rGen. (-1.56) | Discrim. (0.36):  89%|████████▊ | 1508/1700 [01:12<00:08, 21.59it/s]\rGen. (-1.12) | Discrim. (0.01):  89%|████████▊ | 1508/1700 [01:12<00:08, 21.59it/s]\rGen. (-1.14) | Discrim. (-0.24):  89%|████████▊ | 1508/1700 [01:12<00:08, 21.59it/s]\rGen. (-1.13) | Discrim. (0.05):  89%|████████▊ | 1508/1700 [01:12<00:08, 21.59it/s] \rGen. (-1.13) | Discrim. (0.05):  89%|████████▉ | 1511/1700 [01:12<00:08, 21.61it/s]\rGen. (-0.97) | Discrim. (-0.31):  89%|████████▉ | 1511/1700 [01:12<00:08, 21.61it/s]\rGen. (-1.09) | Discrim. (-0.03):  89%|████████▉ | 1511/1700 [01:12<00:08, 21.61it/s]\rGen. (-0.91) | Discrim. (-0.28):  89%|████████▉ | 1511/1700 [01:12<00:08, 21.61it/s]\rGen. (-0.91) | Discrim. (-0.28):  89%|████████▉ | 1514/1700 [01:12<00:08, 21.42it/s]\rGen. (-1.11) | Discrim. (-0.26):  89%|████████▉ | 1514/1700 [01:13<00:08, 21.42it/s]\rGen. (-1.19) | Discrim. (-0.25):  89%|████████▉ | 1514/1700 [01:13<00:08, 21.42it/s]\rGen. (-1.05) | Discrim. (0.01):  89%|████████▉ | 1514/1700 [01:13<00:08, 21.42it/s] \rGen. (-1.05) | Discrim. (0.01):  89%|████████▉ | 1517/1700 [01:13<00:08, 21.39it/s]\rGen. (-0.91) | Discrim. (-0.03):  89%|████████▉ | 1517/1700 [01:13<00:08, 21.39it/s]\rGen. (-1.25) | Discrim. (-0.14):  89%|████████▉ | 1517/1700 [01:13<00:08, 21.39it/s]\rGen. (-0.91) | Discrim. (-0.28):  89%|████████▉ | 1517/1700 [01:13<00:08, 21.39it/s]\rGen. (-0.91) | Discrim. (-0.28):  89%|████████▉ | 1520/1700 [01:13<00:08, 21.47it/s]\rGen. (-1.16) | Discrim. (0.13):  89%|████████▉ | 1520/1700 [01:13<00:08, 21.47it/s] \rGen. (-0.95) | Discrim. (-0.27):  89%|████████▉ | 1520/1700 [01:13<00:08, 21.47it/s]\rGen. (-1.11) | Discrim. (0.08):  89%|████████▉ | 1520/1700 [01:13<00:08, 21.47it/s] \rGen. (-1.11) | Discrim. (0.08):  90%|████████▉ | 1523/1700 [01:13<00:08, 21.65it/s]\rGen. (-1.06) | Discrim. (0.20):  90%|████████▉ | 1523/1700 [01:13<00:08, 21.65it/s]\rGen. (-0.71) | Discrim. (-0.13):  90%|████████▉ | 1523/1700 [01:13<00:08, 21.65it/s]\rGen. (-1.34) | Discrim. (0.17):  90%|████████▉ | 1523/1700 [01:13<00:08, 21.65it/s] \rGen. (-1.34) | Discrim. (0.17):  90%|████████▉ | 1526/1700 [01:13<00:08, 21.57it/s]\rGen. (-0.85) | Discrim. (-0.20):  90%|████████▉ | 1526/1700 [01:13<00:08, 21.57it/s]\rGen. (-1.51) | Discrim. (0.33):  90%|████████▉ | 1526/1700 [01:13<00:08, 21.57it/s] \rGen. (-0.98) | Discrim. (0.16):  90%|████████▉ | 1526/1700 [01:13<00:08, 21.57it/s]\rGen. (-0.98) | Discrim. (0.16):  90%|████████▉ | 1529/1700 [01:13<00:08, 21.31it/s]\rGen. (-1.09) | Discrim. (0.25):  90%|████████▉ | 1529/1700 [01:13<00:08, 21.31it/s]\rGen. (-0.96) | Discrim. (-0.04):  90%|████████▉ | 1529/1700 [01:13<00:08, 21.31it/s]\rGen. (-0.93) | Discrim. (-0.29):  90%|████████▉ | 1529/1700 [01:13<00:08, 21.31it/s]\rGen. (-0.93) | Discrim. (-0.29):  90%|█████████ | 1532/1700 [01:13<00:07, 21.15it/s]\rGen. (-0.83) | Discrim. (-0.26):  90%|█████████ | 1532/1700 [01:13<00:07, 21.15it/s]\rGen. (-1.18) | Discrim. (0.04):  90%|█████████ | 1532/1700 [01:13<00:07, 21.15it/s] \rGen. (-1.20) | Discrim. (-0.41):  90%|█████████ | 1532/1700 [01:13<00:07, 21.15it/s]\rGen. (-1.20) | Discrim. (-0.41):  90%|█████████ | 1535/1700 [01:13<00:07, 21.11it/s]\rGen. (-1.36) | Discrim. (0.19):  90%|█████████ | 1535/1700 [01:14<00:07, 21.11it/s] \rGen. (-1.01) | Discrim. (-0.06):  90%|█████████ | 1535/1700 [01:14<00:07, 21.11it/s]\rGen. (-1.21) | Discrim. (-0.29):  90%|█████████ | 1535/1700 [01:14<00:07, 21.11it/s]\rGen. (-1.21) | Discrim. (-0.29):  90%|█████████ | 1538/1700 [01:14<00:07, 21.24it/s]\rGen. (-1.18) | Discrim. (0.30):  90%|█████████ | 1538/1700 [01:14<00:07, 21.24it/s] \rGen. (-1.10) | Discrim. (-0.06):  90%|█████████ | 1538/1700 [01:14<00:07, 21.24it/s]\rGen. (-1.53) | Discrim. (-0.24):  90%|█████████ | 1538/1700 [01:14<00:07, 21.24it/s]\rGen. (-1.53) | Discrim. (-0.24):  91%|█████████ | 1541/1700 [01:14<00:07, 21.40it/s]\rGen. (-1.07) | Discrim. (0.00):  91%|█████████ | 1541/1700 [01:14<00:07, 21.40it/s] \rGen. (-1.45) | Discrim. (-0.27):  91%|█████████ | 1541/1700 [01:14<00:07, 21.40it/s]\rGen. (-1.05) | Discrim. (0.39):  91%|█████████ | 1541/1700 [01:14<00:07, 21.40it/s] \rGen. (-1.05) | Discrim. (0.39):  91%|█████████ | 1544/1700 [01:14<00:07, 21.50it/s]\rGen. (-0.91) | Discrim. (-0.47):  91%|█████████ | 1544/1700 [01:14<00:07, 21.50it/s]\rGen. (-1.15) | Discrim. (-0.50):  91%|█████████ | 1544/1700 [01:14<00:07, 21.50it/s]\rGen. (-1.52) | Discrim. (-0.03):  91%|█████████ | 1544/1700 [01:14<00:07, 21.50it/s]\rGen. (-1.52) | Discrim. (-0.03):  91%|█████████ | 1547/1700 [01:14<00:07, 21.34it/s]\rGen. (-1.34) | Discrim. (-0.23):  91%|█████████ | 1547/1700 [01:14<00:07, 21.34it/s]\rGen. (-1.04) | Discrim. (-0.34):  91%|█████████ | 1547/1700 [01:14<00:07, 21.34it/s]\rGen. (-1.24) | Discrim. (-0.73):  91%|█████████ | 1547/1700 [01:14<00:07, 21.34it/s]\rGen. (-1.24) | Discrim. (-0.73):  91%|█████████ | 1550/1700 [01:14<00:07, 20.65it/s]\rGen. (-1.30) | Discrim. (-0.17):  91%|█████████ | 1550/1700 [01:14<00:07, 20.65it/s]\rGen. (-1.23) | Discrim. (0.31):  91%|█████████ | 1550/1700 [01:14<00:07, 20.65it/s] \rGen. (-1.62) | Discrim. (0.06):  91%|█████████ | 1550/1700 [01:14<00:07, 20.65it/s]\rGen. (-1.62) | Discrim. (0.06):  91%|█████████▏| 1553/1700 [01:14<00:07, 20.95it/s]\rGen. (-1.22) | Discrim. (-0.19):  91%|█████████▏| 1553/1700 [01:14<00:07, 20.95it/s]\rGen. (-1.61) | Discrim. (-0.26):  91%|█████████▏| 1553/1700 [01:14<00:07, 20.95it/s]\rGen. (-1.54) | Discrim. (-0.20):  91%|█████████▏| 1553/1700 [01:14<00:07, 20.95it/s]\rGen. (-1.54) | Discrim. (-0.20):  92%|█████████▏| 1556/1700 [01:14<00:06, 21.10it/s]\rGen. (-1.67) | Discrim. (0.02):  92%|█████████▏| 1556/1700 [01:15<00:06, 21.10it/s] \rGen. (-1.51) | Discrim. (0.05):  92%|█████████▏| 1556/1700 [01:15<00:06, 21.10it/s]\rGen. (-1.32) | Discrim. (0.02):  92%|█████████▏| 1556/1700 [01:15<00:06, 21.10it/s]\rGen. (-1.32) | Discrim. (0.02):  92%|█████████▏| 1559/1700 [01:15<00:06, 21.29it/s]\rGen. (-1.59) | Discrim. (0.05):  92%|█████████▏| 1559/1700 [01:15<00:06, 21.29it/s]\rGen. (-1.56) | Discrim. (-0.16):  92%|█████████▏| 1559/1700 [01:15<00:06, 21.29it/s]\rGen. (-1.51) | Discrim. (0.48):  92%|█████████▏| 1559/1700 [01:15<00:06, 21.29it/s] \rGen. (-1.51) | Discrim. (0.48):  92%|█████████▏| 1562/1700 [01:15<00:06, 21.36it/s]\rGen. (-1.28) | Discrim. (-0.04):  92%|█████████▏| 1562/1700 [01:15<00:06, 21.36it/s]\rGen. (-1.34) | Discrim. (0.04):  92%|█████████▏| 1562/1700 [01:15<00:06, 21.36it/s] \rGen. (-1.40) | Discrim. (-0.55):  92%|█████████▏| 1562/1700 [01:15<00:06, 21.36it/s]\rGen. (-1.40) | Discrim. (-0.55):  92%|█████████▏| 1565/1700 [01:15<00:06, 21.46it/s]\rGen. (-1.34) | Discrim. (-0.26):  92%|█████████▏| 1565/1700 [01:15<00:06, 21.46it/s]\rGen. (-1.45) | Discrim. (-0.06):  92%|█████████▏| 1565/1700 [01:15<00:06, 21.46it/s]\rGen. (-1.50) | Discrim. (0.04):  92%|█████████▏| 1565/1700 [01:15<00:06, 21.46it/s] \rGen. (-1.50) | Discrim. (0.04):  92%|█████████▏| 1568/1700 [01:15<00:06, 21.54it/s]\rGen. (-1.44) | Discrim. (-0.26):  92%|█████████▏| 1568/1700 [01:15<00:06, 21.54it/s]\rGen. (-1.44) | Discrim. (-0.08):  92%|█████████▏| 1568/1700 [01:15<00:06, 21.54it/s]\rGen. (-1.10) | Discrim. (-0.11):  92%|█████████▏| 1568/1700 [01:15<00:06, 21.54it/s]\rGen. (-1.10) | Discrim. (-0.11):  92%|█████████▏| 1571/1700 [01:15<00:06, 20.74it/s]\rGen. (-1.36) | Discrim. (-0.07):  92%|█████████▏| 1571/1700 [01:15<00:06, 20.74it/s]\rGen. (-1.51) | Discrim. (-0.24):  92%|█████████▏| 1571/1700 [01:15<00:06, 20.74it/s]\rGen. (-1.52) | Discrim. (0.28):  92%|█████████▏| 1571/1700 [01:15<00:06, 20.74it/s] \rGen. (-1.52) | Discrim. (0.28):  93%|█████████▎| 1574/1700 [01:15<00:06, 18.90it/s]\rGen. (-1.30) | Discrim. (-0.18):  93%|█████████▎| 1574/1700 [01:15<00:06, 18.90it/s]\rGen. (-0.79) | Discrim. (-0.09):  93%|█████████▎| 1574/1700 [01:15<00:06, 18.90it/s]\rGen. (-1.00) | Discrim. (0.25):  93%|█████████▎| 1574/1700 [01:16<00:06, 18.90it/s] \rGen. (-1.00) | Discrim. (0.25):  93%|█████████▎| 1577/1700 [01:16<00:06, 19.58it/s]\rGen. (-1.02) | Discrim. (-0.30):  93%|█████████▎| 1577/1700 [01:16<00:06, 19.58it/s]\rGen. (-1.03) | Discrim. (0.26):  93%|█████████▎| 1577/1700 [01:16<00:06, 19.58it/s] \rGen. (-1.18) | Discrim. (-0.36):  93%|█████████▎| 1577/1700 [01:16<00:06, 19.58it/s]\rGen. (-1.18) | Discrim. (-0.36):  93%|█████████▎| 1580/1700 [01:16<00:06, 19.98it/s]\rGen. (-1.39) | Discrim. (-0.45):  93%|█████████▎| 1580/1700 [01:16<00:06, 19.98it/s]\rGen. (-1.12) | Discrim. (0.22):  93%|█████████▎| 1580/1700 [01:16<00:06, 19.98it/s] \rGen. (-0.94) | Discrim. (-0.23):  93%|█████████▎| 1580/1700 [01:16<00:06, 19.98it/s]\rGen. (-0.94) | Discrim. (-0.23):  93%|█████████▎| 1583/1700 [01:16<00:05, 20.21it/s]\rGen. (-1.26) | Discrim. (0.02):  93%|█████████▎| 1583/1700 [01:16<00:05, 20.21it/s] \rGen. (-1.18) | Discrim. (-0.18):  93%|█████████▎| 1583/1700 [01:16<00:05, 20.21it/s]\rGen. (-1.02) | Discrim. (-0.56):  93%|█████████▎| 1583/1700 [01:16<00:05, 20.21it/s]\rGen. (-1.02) | Discrim. (-0.56):  93%|█████████▎| 1586/1700 [01:16<00:05, 20.76it/s]\rGen. (-0.68) | Discrim. (-0.19):  93%|█████████▎| 1586/1700 [01:16<00:05, 20.76it/s]\rGen. (-1.22) | Discrim. (-0.37):  93%|█████████▎| 1586/1700 [01:16<00:05, 20.76it/s]\rGen. (-1.14) | Discrim. (-0.17):  93%|█████████▎| 1586/1700 [01:16<00:05, 20.76it/s]\rGen. (-1.14) | Discrim. (-0.17):  93%|█████████▎| 1589/1700 [01:16<00:05, 21.05it/s]\rGen. (-0.70) | Discrim. (-0.34):  93%|█████████▎| 1589/1700 [01:16<00:05, 21.05it/s]\rGen. (-1.07) | Discrim. (-0.43):  93%|█████████▎| 1589/1700 [01:16<00:05, 21.05it/s]\rGen. (-0.86) | Discrim. (-0.19):  93%|█████████▎| 1589/1700 [01:16<00:05, 21.05it/s]\rGen. (-0.86) | Discrim. (-0.19):  94%|█████████▎| 1592/1700 [01:16<00:05, 21.22it/s]\rGen. (-0.83) | Discrim. (-0.22):  94%|█████████▎| 1592/1700 [01:16<00:05, 21.22it/s]\rGen. (-1.07) | Discrim. (-0.27):  94%|█████████▎| 1592/1700 [01:16<00:05, 21.22it/s]\rGen. (-1.09) | Discrim. (0.47):  94%|█████████▎| 1592/1700 [01:16<00:05, 21.22it/s] \rGen. (-1.09) | Discrim. (0.47):  94%|█████████▍| 1595/1700 [01:16<00:04, 21.25it/s]\rGen. (-0.96) | Discrim. (-0.12):  94%|█████████▍| 1595/1700 [01:16<00:04, 21.25it/s]\rGen. (-1.28) | Discrim. (0.41):  94%|█████████▍| 1595/1700 [01:16<00:04, 21.25it/s] \rGen. (-1.15) | Discrim. (-0.21):  94%|█████████▍| 1595/1700 [01:17<00:04, 21.25it/s]\rGen. (-1.15) | Discrim. (-0.21):  94%|█████████▍| 1598/1700 [01:17<00:04, 20.52it/s]\rGen. (-1.53) | Discrim. (0.46):  94%|█████████▍| 1598/1700 [01:17<00:04, 20.52it/s] \rGen. (-0.71) | Discrim. (-0.15):  94%|█████████▍| 1598/1700 [01:17<00:04, 20.52it/s]\rGen. (-1.26) | Discrim. (0.27):  94%|█████████▍| 1598/1700 [01:17<00:04, 20.52it/s] \rGen. (-1.26) | Discrim. (0.27):  94%|█████████▍| 1601/1700 [01:17<00:04, 20.86it/s]\rGen. (-1.03) | Discrim. (-0.11):  94%|█████████▍| 1601/1700 [01:17<00:04, 20.86it/s]\rGen. (-0.97) | Discrim. (0.38):  94%|█████████▍| 1601/1700 [01:17<00:04, 20.86it/s] \rGen. (-1.08) | Discrim. (-0.36):  94%|█████████▍| 1601/1700 [01:17<00:04, 20.86it/s]\rGen. (-1.08) | Discrim. (-0.36):  94%|█████████▍| 1604/1700 [01:17<00:04, 20.86it/s]\rGen. (-0.89) | Discrim. (-0.17):  94%|█████████▍| 1604/1700 [01:17<00:04, 20.86it/s]\rGen. (-0.77) | Discrim. (-0.01):  94%|█████████▍| 1604/1700 [01:17<00:04, 20.86it/s]\rGen. (-0.71) | Discrim. (-0.04):  94%|█████████▍| 1604/1700 [01:17<00:04, 20.86it/s]\rGen. (-0.71) | Discrim. (-0.04):  95%|█████████▍| 1607/1700 [01:17<00:04, 21.11it/s]\rGen. (-0.90) | Discrim. (-0.46):  95%|█████████▍| 1607/1700 [01:17<00:04, 21.11it/s]\rGen. (-0.72) | Discrim. (-0.43):  95%|█████████▍| 1607/1700 [01:17<00:04, 21.11it/s]\rGen. (-0.94) | Discrim. (-0.05):  95%|█████████▍| 1607/1700 [01:17<00:04, 21.11it/s]\rGen. (-0.94) | Discrim. (-0.05):  95%|█████████▍| 1610/1700 [01:17<00:04, 21.00it/s]\rGen. (-1.01) | Discrim. (-0.41):  95%|█████████▍| 1610/1700 [01:17<00:04, 21.00it/s]\rGen. (-1.01) | Discrim. (0.31):  95%|█████████▍| 1610/1700 [01:17<00:04, 21.00it/s] \rGen. (-1.00) | Discrim. (-0.40):  95%|█████████▍| 1610/1700 [01:17<00:04, 21.00it/s]\rGen. (-1.00) | Discrim. (-0.40):  95%|█████████▍| 1613/1700 [01:17<00:04, 20.34it/s]\rGen. (-0.98) | Discrim. (-0.44):  95%|█████████▍| 1613/1700 [01:17<00:04, 20.34it/s]\rGen. (-0.85) | Discrim. (-0.34):  95%|█████████▍| 1613/1700 [01:17<00:04, 20.34it/s]\rGen. (-1.05) | Discrim. (0.19):  95%|█████████▍| 1613/1700 [01:17<00:04, 20.34it/s] \rGen. (-1.05) | Discrim. (0.19):  95%|█████████▌| 1616/1700 [01:17<00:04, 20.28it/s]\rGen. (-0.94) | Discrim. (0.08):  95%|█████████▌| 1616/1700 [01:17<00:04, 20.28it/s]\rGen. (-1.00) | Discrim. (-0.04):  95%|█████████▌| 1616/1700 [01:17<00:04, 20.28it/s]\rGen. (-0.93) | Discrim. (-0.25):  95%|█████████▌| 1616/1700 [01:18<00:04, 20.28it/s]\rGen. (-0.93) | Discrim. (-0.25):  95%|█████████▌| 1619/1700 [01:18<00:03, 20.51it/s]\rGen. (-1.20) | Discrim. (-0.47):  95%|█████████▌| 1619/1700 [01:18<00:03, 20.51it/s]\rGen. (-0.80) | Discrim. (-0.01):  95%|█████████▌| 1619/1700 [01:18<00:03, 20.51it/s]\rGen. (-0.72) | Discrim. (-0.36):  95%|█████████▌| 1619/1700 [01:18<00:03, 20.51it/s]\rGen. (-0.72) | Discrim. (-0.36):  95%|█████████▌| 1622/1700 [01:18<00:03, 20.82it/s]\rGen. (-0.96) | Discrim. (0.38):  95%|█████████▌| 1622/1700 [01:18<00:03, 20.82it/s] \rGen. (-0.91) | Discrim. (-0.23):  95%|█████████▌| 1622/1700 [01:18<00:03, 20.82it/s]\rGen. (-1.12) | Discrim. (-0.63):  95%|█████████▌| 1622/1700 [01:18<00:03, 20.82it/s]\rGen. (-1.12) | Discrim. (-0.63):  96%|█████████▌| 1625/1700 [01:18<00:03, 21.05it/s]\rGen. (-0.97) | Discrim. (-0.23):  96%|█████████▌| 1625/1700 [01:18<00:03, 21.05it/s]\rGen. (-0.70) | Discrim. (-0.27):  96%|█████████▌| 1625/1700 [01:18<00:03, 21.05it/s]\rGen. (-0.87) | Discrim. (0.13):  96%|█████████▌| 1625/1700 [01:18<00:03, 21.05it/s] \rGen. (-0.87) | Discrim. (0.13):  96%|█████████▌| 1628/1700 [01:18<00:03, 21.19it/s]\rGen. (-0.95) | Discrim. (-0.33):  96%|█████████▌| 1628/1700 [01:18<00:03, 21.19it/s]\rGen. (-0.89) | Discrim. (-0.06):  96%|█████████▌| 1628/1700 [01:18<00:03, 21.19it/s]\rGen. (-0.67) | Discrim. (-0.13):  96%|█████████▌| 1628/1700 [01:18<00:03, 21.19it/s]\rGen. (-0.67) | Discrim. (-0.13):  96%|█████████▌| 1631/1700 [01:18<00:03, 21.21it/s]\rGen. (-0.89) | Discrim. (-0.53):  96%|█████████▌| 1631/1700 [01:18<00:03, 21.21it/s]\rGen. (-0.79) | Discrim. (-0.24):  96%|█████████▌| 1631/1700 [01:18<00:03, 21.21it/s]\rGen. (-1.02) | Discrim. (-0.13):  96%|█████████▌| 1631/1700 [01:18<00:03, 21.21it/s]\rGen. (-1.02) | Discrim. (-0.13):  96%|█████████▌| 1634/1700 [01:18<00:03, 21.06it/s]\rGen. (-0.94) | Discrim. (-0.42):  96%|█████████▌| 1634/1700 [01:18<00:03, 21.06it/s]\rGen. (-1.09) | Discrim. (-0.13):  96%|█████████▌| 1634/1700 [01:18<00:03, 21.06it/s]\rGen. (-1.02) | Discrim. (0.11):  96%|█████████▌| 1634/1700 [01:18<00:03, 21.06it/s] \rGen. (-1.02) | Discrim. (0.11):  96%|█████████▋| 1637/1700 [01:18<00:02, 21.10it/s]\rGen. (-1.10) | Discrim. (0.30):  96%|█████████▋| 1637/1700 [01:18<00:02, 21.10it/s]\rGen. (-0.71) | Discrim. (-0.21):  96%|█████████▋| 1637/1700 [01:18<00:02, 21.10it/s]\rGen. (-0.73) | Discrim. (-0.23):  96%|█████████▋| 1637/1700 [01:19<00:02, 21.10it/s]\rGen. (-0.73) | Discrim. (-0.23):  96%|█████████▋| 1640/1700 [01:19<00:02, 21.06it/s]\rGen. (-1.07) | Discrim. (0.09):  96%|█████████▋| 1640/1700 [01:19<00:02, 21.06it/s] \rGen. (-0.88) | Discrim. (0.25):  96%|█████████▋| 1640/1700 [01:19<00:02, 21.06it/s]\rGen. (-0.54) | Discrim. (-0.10):  96%|█████████▋| 1640/1700 [01:19<00:02, 21.06it/s]\rGen. (-0.54) | Discrim. (-0.10):  97%|█████████▋| 1643/1700 [01:19<00:02, 21.05it/s]\rGen. (-0.65) | Discrim. (-0.17):  97%|█████████▋| 1643/1700 [01:19<00:02, 21.05it/s]\rGen. (-0.81) | Discrim. (0.05):  97%|█████████▋| 1643/1700 [01:19<00:02, 21.05it/s] \rGen. (-0.71) | Discrim. (-0.06):  97%|█████████▋| 1643/1700 [01:19<00:02, 21.05it/s]\rGen. (-0.71) | Discrim. (-0.06):  97%|█████████▋| 1646/1700 [01:19<00:02, 21.16it/s]\rGen. (-0.60) | Discrim. (0.69):  97%|█████████▋| 1646/1700 [01:19<00:02, 21.16it/s] \rGen. (-0.68) | Discrim. (0.05):  97%|█████████▋| 1646/1700 [01:19<00:02, 21.16it/s]\rGen. (-0.93) | Discrim. (0.30):  97%|█████████▋| 1646/1700 [01:19<00:02, 21.16it/s]\rGen. (-0.93) | Discrim. (0.30):  97%|█████████▋| 1649/1700 [01:19<00:02, 21.11it/s]\rGen. (-0.51) | Discrim. (-0.10):  97%|█████████▋| 1649/1700 [01:19<00:02, 21.11it/s]\rGen. (-0.71) | Discrim. (-0.10):  97%|█████████▋| 1649/1700 [01:19<00:02, 21.11it/s]\rGen. (-0.89) | Discrim. (0.18):  97%|█████████▋| 1649/1700 [01:19<00:02, 21.11it/s] \rGen. (-0.89) | Discrim. (0.18):  97%|█████████▋| 1652/1700 [01:19<00:02, 21.21it/s]\rGen. (-0.73) | Discrim. (0.25):  97%|█████████▋| 1652/1700 [01:19<00:02, 21.21it/s]\rGen. (-0.76) | Discrim. (-0.13):  97%|█████████▋| 1652/1700 [01:19<00:02, 21.21it/s]\rGen. (-0.85) | Discrim. (0.08):  97%|█████████▋| 1652/1700 [01:19<00:02, 21.21it/s] \rGen. (-0.85) | Discrim. (0.08):  97%|█████████▋| 1655/1700 [01:19<00:02, 21.51it/s]\rGen. (-0.94) | Discrim. (0.48):  97%|█████████▋| 1655/1700 [01:19<00:02, 21.51it/s]\rGen. (-1.02) | Discrim. (0.22):  97%|█████████▋| 1655/1700 [01:19<00:02, 21.51it/s]\rGen. (-1.20) | Discrim. (-0.35):  97%|█████████▋| 1655/1700 [01:19<00:02, 21.51it/s]\rGen. (-1.20) | Discrim. (-0.35):  98%|█████████▊| 1658/1700 [01:19<00:01, 21.49it/s]\rGen. (-0.96) | Discrim. (-0.58):  98%|█████████▊| 1658/1700 [01:19<00:01, 21.49it/s]\rGen. (-0.73) | Discrim. (-0.26):  98%|█████████▊| 1658/1700 [01:19<00:01, 21.49it/s]\rGen. (-1.04) | Discrim. (-0.26):  98%|█████████▊| 1658/1700 [01:19<00:01, 21.49it/s]\rGen. (-1.04) | Discrim. (-0.26):  98%|█████████▊| 1661/1700 [01:19<00:01, 21.59it/s]\rGen. (-0.83) | Discrim. (-0.33):  98%|█████████▊| 1661/1700 [01:20<00:01, 21.59it/s]\rGen. (-0.91) | Discrim. (-0.15):  98%|█████████▊| 1661/1700 [01:20<00:01, 21.59it/s]\rGen. (-1.05) | Discrim. (0.20):  98%|█████████▊| 1661/1700 [01:20<00:01, 21.59it/s] \rGen. (-1.05) | Discrim. (0.20):  98%|█████████▊| 1664/1700 [01:20<00:01, 21.50it/s]\rGen. (-0.81) | Discrim. (-0.06):  98%|█████████▊| 1664/1700 [01:20<00:01, 21.50it/s]\rGen. (-0.69) | Discrim. (-0.37):  98%|█████████▊| 1664/1700 [01:20<00:01, 21.50it/s]\rGen. (-0.84) | Discrim. (-0.18):  98%|█████████▊| 1664/1700 [01:20<00:01, 21.50it/s]\rGen. (-0.84) | Discrim. (-0.18):  98%|█████████▊| 1667/1700 [01:20<00:01, 21.53it/s]\rGen. (-1.09) | Discrim. (-0.32):  98%|█████████▊| 1667/1700 [01:20<00:01, 21.53it/s]\rGen. (-0.92) | Discrim. (0.41):  98%|█████████▊| 1667/1700 [01:20<00:01, 21.53it/s] \rGen. (-0.94) | Discrim. (-0.11):  98%|█████████▊| 1667/1700 [01:20<00:01, 21.53it/s]\rGen. (-0.94) | Discrim. (-0.11):  98%|█████████▊| 1670/1700 [01:20<00:01, 21.47it/s]\rGen. (-1.24) | Discrim. (0.25):  98%|█████████▊| 1670/1700 [01:20<00:01, 21.47it/s] \rGen. (-0.46) | Discrim. (0.08):  98%|█████████▊| 1670/1700 [01:20<00:01, 21.47it/s]\rGen. (-0.94) | Discrim. (-0.20):  98%|█████████▊| 1670/1700 [01:20<00:01, 21.47it/s]\rGen. (-0.94) | Discrim. (-0.20):  98%|█████████▊| 1673/1700 [01:20<00:01, 21.51it/s]\rGen. (-0.71) | Discrim. (-0.00):  98%|█████████▊| 1673/1700 [01:20<00:01, 21.51it/s]\rGen. (-1.31) | Discrim. (0.22):  98%|█████████▊| 1673/1700 [01:20<00:01, 21.51it/s] \rGen. (-1.20) | Discrim. (0.14):  98%|█████████▊| 1673/1700 [01:20<00:01, 21.51it/s]\rGen. (-1.20) | Discrim. (0.14):  99%|█████████▊| 1676/1700 [01:20<00:01, 21.47it/s]\rGen. (-1.33) | Discrim. (-0.13):  99%|█████████▊| 1676/1700 [01:20<00:01, 21.47it/s]\rGen. (-1.14) | Discrim. (-0.19):  99%|█████████▊| 1676/1700 [01:20<00:01, 21.47it/s]\rGen. (-0.87) | Discrim. (-0.12):  99%|█████████▊| 1676/1700 [01:20<00:01, 21.47it/s]\rGen. (-0.87) | Discrim. (-0.12):  99%|█████████▉| 1679/1700 [01:20<00:00, 21.40it/s]\rGen. (-1.39) | Discrim. (-0.11):  99%|█████████▉| 1679/1700 [01:20<00:00, 21.40it/s]\rGen. (-1.06) | Discrim. (0.26):  99%|█████████▉| 1679/1700 [01:20<00:00, 21.40it/s] \rGen. (-1.01) | Discrim. (-0.33):  99%|█████████▉| 1679/1700 [01:20<00:00, 21.40it/s]\rGen. (-1.01) | Discrim. (-0.33):  99%|█████████▉| 1682/1700 [01:20<00:00, 20.99it/s]\rGen. (-1.13) | Discrim. (-0.41):  99%|█████████▉| 1682/1700 [01:21<00:00, 20.99it/s]\rGen. (-0.99) | Discrim. (-0.13):  99%|█████████▉| 1682/1700 [01:21<00:00, 20.99it/s]\rGen. (-1.30) | Discrim. (0.12):  99%|█████████▉| 1682/1700 [01:21<00:00, 20.99it/s] \rGen. (-1.30) | Discrim. (0.12):  99%|█████████▉| 1685/1700 [01:21<00:00, 20.85it/s]\rGen. (-0.77) | Discrim. (0.04):  99%|█████████▉| 1685/1700 [01:21<00:00, 20.85it/s]\rGen. (-1.32) | Discrim. (0.04):  99%|█████████▉| 1685/1700 [01:21<00:00, 20.85it/s]\rGen. (-1.00) | Discrim. (-0.19):  99%|█████████▉| 1685/1700 [01:21<00:00, 20.85it/s]\rGen. (-1.00) | Discrim. (-0.19):  99%|█████████▉| 1688/1700 [01:21<00:00, 19.48it/s]\rGen. (-1.34) | Discrim. (-0.30):  99%|█████████▉| 1688/1700 [01:21<00:00, 19.48it/s]\rGen. (-0.96) | Discrim. (-0.17):  99%|█████████▉| 1688/1700 [01:21<00:00, 19.48it/s]\rGen. (-0.96) | Discrim. (-0.17):  99%|█████████▉| 1690/1700 [01:21<00:00, 19.32it/s]\rGen. (-1.10) | Discrim. (-0.42):  99%|█████████▉| 1690/1700 [01:21<00:00, 19.32it/s]\rGen. (-1.30) | Discrim. (0.05):  99%|█████████▉| 1690/1700 [01:21<00:00, 19.32it/s] \rGen. (-1.30) | Discrim. (0.05): 100%|█████████▉| 1692/1700 [01:21<00:00, 19.07it/s]\rGen. (-1.29) | Discrim. (-0.57): 100%|█████████▉| 1692/1700 [01:21<00:00, 19.07it/s]\rGen. (-1.32) | Discrim. (-0.06): 100%|█████████▉| 1692/1700 [01:21<00:00, 19.07it/s]\rGen. (-1.32) | Discrim. (-0.06): 100%|█████████▉| 1694/1700 [01:21<00:00, 18.22it/s]\rGen. (-1.33) | Discrim. (-0.17): 100%|█████████▉| 1694/1700 [01:21<00:00, 18.22it/s]\rGen. (-1.50) | Discrim. (-0.05): 100%|█████████▉| 1694/1700 [01:21<00:00, 18.22it/s]\rGen. (-1.50) | Discrim. (-0.05): 100%|█████████▉| 1696/1700 [01:21<00:00, 18.59it/s]\rGen. (-1.07) | Discrim. (-0.10): 100%|█████████▉| 1696/1700 [01:21<00:00, 18.59it/s]\rGen. (-1.01) | Discrim. (0.39): 100%|█████████▉| 1696/1700 [01:21<00:00, 18.59it/s] \rGen. (-1.35) | Discrim. (-0.27): 100%|█████████▉| 1696/1700 [01:21<00:00, 18.59it/s]\rGen. (-1.35) | Discrim. (-0.27): 100%|█████████▉| 1699/1700 [01:21<00:00, 19.41it/s]\rGen. (-1.03) | Discrim. (0.05): 100%|█████████▉| 1699/1700 [01:21<00:00, 19.41it/s] \rGen. (-1.03) | Discrim. (0.05): 100%|██████████| 1700/1700 [01:21<00:00, 20.75it/s]\n"
     ]
    }
   ],
   "source": [
    "model = ctgan.CTGAN(verbose=True,batch_size=200,epochs=1700)\n",
    "categorical_columns = ['age', 'workclass', 'fnlwgt', 'education-num', 'marital-status',\n",
    "       'occupation', 'relationship', 'race', 'sex', 'capital-gain',\n",
    "       'capital-loss', 'hours-per-week', 'native-country', 'income']\n",
    "model.fit(in_data,categorical_columns)"
   ]
  },
  {
   "cell_type": "code",
   "execution_count": 0,
   "metadata": {
    "application/vnd.databricks.v1+cell": {
     "cellMetadata": {
      "byteLimit": 2048000,
      "rowLimit": 10000
     },
     "inputWidgets": {},
     "nuid": "16d1f41b-82f0-4956-ae7d-0e1846463668",
     "showTitle": false,
     "tableResultSettingsMap": {},
     "title": ""
    }
   },
   "outputs": [
    {
     "output_type": "display_data",
     "data": {
      "text/html": [
       "<div>\n",
       "<style scoped>\n",
       "    .dataframe tbody tr th:only-of-type {\n",
       "        vertical-align: middle;\n",
       "    }\n",
       "\n",
       "    .dataframe tbody tr th {\n",
       "        vertical-align: top;\n",
       "    }\n",
       "\n",
       "    .dataframe thead th {\n",
       "        text-align: right;\n",
       "    }\n",
       "</style>\n",
       "<table border=\"1\" class=\"dataframe\">\n",
       "  <thead>\n",
       "    <tr style=\"text-align: right;\">\n",
       "      <th></th>\n",
       "      <th>age</th>\n",
       "      <th>workclass</th>\n",
       "      <th>fnlwgt</th>\n",
       "      <th>education-num</th>\n",
       "      <th>marital-status</th>\n",
       "      <th>occupation</th>\n",
       "      <th>relationship</th>\n",
       "      <th>race</th>\n",
       "      <th>sex</th>\n",
       "      <th>capital-gain</th>\n",
       "      <th>capital-loss</th>\n",
       "      <th>hours-per-week</th>\n",
       "      <th>native-country</th>\n",
       "      <th>income</th>\n",
       "    </tr>\n",
       "  </thead>\n",
       "  <tbody>\n",
       "    <tr>\n",
       "      <th>0</th>\n",
       "      <td>1</td>\n",
       "      <td>4</td>\n",
       "      <td>0</td>\n",
       "      <td>15</td>\n",
       "      <td>3</td>\n",
       "      <td>10</td>\n",
       "      <td>3</td>\n",
       "      <td>1</td>\n",
       "      <td>1</td>\n",
       "      <td>2</td>\n",
       "      <td>0</td>\n",
       "      <td>0</td>\n",
       "      <td>19</td>\n",
       "      <td>0</td>\n",
       "    </tr>\n",
       "    <tr>\n",
       "      <th>1</th>\n",
       "      <td>1</td>\n",
       "      <td>4</td>\n",
       "      <td>0</td>\n",
       "      <td>14</td>\n",
       "      <td>2</td>\n",
       "      <td>10</td>\n",
       "      <td>1</td>\n",
       "      <td>1</td>\n",
       "      <td>0</td>\n",
       "      <td>0</td>\n",
       "      <td>0</td>\n",
       "      <td>0</td>\n",
       "      <td>19</td>\n",
       "      <td>0</td>\n",
       "    </tr>\n",
       "    <tr>\n",
       "      <th>2</th>\n",
       "      <td>0</td>\n",
       "      <td>5</td>\n",
       "      <td>0</td>\n",
       "      <td>16</td>\n",
       "      <td>2</td>\n",
       "      <td>12</td>\n",
       "      <td>1</td>\n",
       "      <td>1</td>\n",
       "      <td>1</td>\n",
       "      <td>0</td>\n",
       "      <td>0</td>\n",
       "      <td>2</td>\n",
       "      <td>19</td>\n",
       "      <td>1</td>\n",
       "    </tr>\n",
       "    <tr>\n",
       "      <th>3</th>\n",
       "      <td>0</td>\n",
       "      <td>7</td>\n",
       "      <td>0</td>\n",
       "      <td>13</td>\n",
       "      <td>4</td>\n",
       "      <td>10</td>\n",
       "      <td>1</td>\n",
       "      <td>3</td>\n",
       "      <td>1</td>\n",
       "      <td>0</td>\n",
       "      <td>1</td>\n",
       "      <td>1</td>\n",
       "      <td>19</td>\n",
       "      <td>0</td>\n",
       "    </tr>\n",
       "    <tr>\n",
       "      <th>4</th>\n",
       "      <td>0</td>\n",
       "      <td>4</td>\n",
       "      <td>0</td>\n",
       "      <td>10</td>\n",
       "      <td>4</td>\n",
       "      <td>14</td>\n",
       "      <td>3</td>\n",
       "      <td>1</td>\n",
       "      <td>0</td>\n",
       "      <td>0</td>\n",
       "      <td>0</td>\n",
       "      <td>0</td>\n",
       "      <td>19</td>\n",
       "      <td>0</td>\n",
       "    </tr>\n",
       "  </tbody>\n",
       "</table>\n",
       "</div>"
      ]
     },
     "metadata": {
      "application/vnd.databricks.v1+output": {
       "addedWidgets": {},
       "arguments": {},
       "data": "<div>\n<style scoped>\n    .dataframe tbody tr th:only-of-type {\n        vertical-align: middle;\n    }\n\n    .dataframe tbody tr th {\n        vertical-align: top;\n    }\n\n    .dataframe thead th {\n        text-align: right;\n    }\n</style>\n<table border=\"1\" class=\"dataframe\">\n  <thead>\n    <tr style=\"text-align: right;\">\n      <th></th>\n      <th>age</th>\n      <th>workclass</th>\n      <th>fnlwgt</th>\n      <th>education-num</th>\n      <th>marital-status</th>\n      <th>occupation</th>\n      <th>relationship</th>\n      <th>race</th>\n      <th>sex</th>\n      <th>capital-gain</th>\n      <th>capital-loss</th>\n      <th>hours-per-week</th>\n      <th>native-country</th>\n      <th>income</th>\n    </tr>\n  </thead>\n  <tbody>\n    <tr>\n      <th>0</th>\n      <td>1</td>\n      <td>4</td>\n      <td>0</td>\n      <td>15</td>\n      <td>3</td>\n      <td>10</td>\n      <td>3</td>\n      <td>1</td>\n      <td>1</td>\n      <td>2</td>\n      <td>0</td>\n      <td>0</td>\n      <td>19</td>\n      <td>0</td>\n    </tr>\n    <tr>\n      <th>1</th>\n      <td>1</td>\n      <td>4</td>\n      <td>0</td>\n      <td>14</td>\n      <td>2</td>\n      <td>10</td>\n      <td>1</td>\n      <td>1</td>\n      <td>0</td>\n      <td>0</td>\n      <td>0</td>\n      <td>0</td>\n      <td>19</td>\n      <td>0</td>\n    </tr>\n    <tr>\n      <th>2</th>\n      <td>0</td>\n      <td>5</td>\n      <td>0</td>\n      <td>16</td>\n      <td>2</td>\n      <td>12</td>\n      <td>1</td>\n      <td>1</td>\n      <td>1</td>\n      <td>0</td>\n      <td>0</td>\n      <td>2</td>\n      <td>19</td>\n      <td>1</td>\n    </tr>\n    <tr>\n      <th>3</th>\n      <td>0</td>\n      <td>7</td>\n      <td>0</td>\n      <td>13</td>\n      <td>4</td>\n      <td>10</td>\n      <td>1</td>\n      <td>3</td>\n      <td>1</td>\n      <td>0</td>\n      <td>1</td>\n      <td>1</td>\n      <td>19</td>\n      <td>0</td>\n    </tr>\n    <tr>\n      <th>4</th>\n      <td>0</td>\n      <td>4</td>\n      <td>0</td>\n      <td>10</td>\n      <td>4</td>\n      <td>14</td>\n      <td>3</td>\n      <td>1</td>\n      <td>0</td>\n      <td>0</td>\n      <td>0</td>\n      <td>0</td>\n      <td>19</td>\n      <td>0</td>\n    </tr>\n  </tbody>\n</table>\n</div>",
       "datasetInfos": [],
       "metadata": {},
       "removedWidgets": [],
       "textData": null,
       "type": "htmlSandbox"
      }
     },
     "output_type": "display_data"
    }
   ],
   "source": [
    "in_syn_data = model.sample(10000)\n",
    "in_syn_data.head()"
   ]
  },
  {
   "cell_type": "code",
   "execution_count": 0,
   "metadata": {
    "application/vnd.databricks.v1+cell": {
     "cellMetadata": {
      "byteLimit": 2048000,
      "rowLimit": 10000
     },
     "inputWidgets": {},
     "nuid": "daf3917b-811b-41ca-b784-b8f948c8fd8f",
     "showTitle": false,
     "tableResultSettingsMap": {},
     "title": ""
    }
   },
   "outputs": [
    {
     "output_type": "stream",
     "name": "stdout",
     "output_type": "stream",
     "text": [
      "Out[52]: 0    89\n1    62\nName: income, dtype: int64"
     ]
    }
   ],
   "source": [
    "in_data['income'].value_counts()"
   ]
  },
  {
   "cell_type": "code",
   "execution_count": 0,
   "metadata": {
    "application/vnd.databricks.v1+cell": {
     "cellMetadata": {
      "byteLimit": 2048000,
      "rowLimit": 10000
     },
     "inputWidgets": {},
     "nuid": "3e3b3f11-5ef0-4d8d-8ef8-a6434c116d77",
     "showTitle": false,
     "tableResultSettingsMap": {},
     "title": ""
    }
   },
   "outputs": [
    {
     "output_type": "stream",
     "name": "stdout",
     "output_type": "stream",
     "text": [
      "Out[53]: 0    5744\n1    4256\nName: income, dtype: int64"
     ]
    }
   ],
   "source": [
    "in_syn_data['income'].value_counts()"
   ]
  },
  {
   "cell_type": "code",
   "execution_count": 0,
   "metadata": {
    "application/vnd.databricks.v1+cell": {
     "cellMetadata": {
      "byteLimit": 2048000,
      "rowLimit": 10000
     },
     "inputWidgets": {},
     "nuid": "6c71daf1-1cb5-4e8c-a0b4-34dcbc3db24a",
     "showTitle": false,
     "tableResultSettingsMap": {},
     "title": ""
    }
   },
   "outputs": [
    {
     "output_type": "stream",
     "name": "stdout",
     "output_type": "stream",
     "text": [
      "(10151, 14)\n"
     ]
    },
    {
     "output_type": "display_data",
     "data": {
      "text/html": [
       "<div>\n",
       "<style scoped>\n",
       "    .dataframe tbody tr th:only-of-type {\n",
       "        vertical-align: middle;\n",
       "    }\n",
       "\n",
       "    .dataframe tbody tr th {\n",
       "        vertical-align: top;\n",
       "    }\n",
       "\n",
       "    .dataframe thead th {\n",
       "        text-align: right;\n",
       "    }\n",
       "</style>\n",
       "<table border=\"1\" class=\"dataframe\">\n",
       "  <thead>\n",
       "    <tr style=\"text-align: right;\">\n",
       "      <th></th>\n",
       "      <th>age</th>\n",
       "      <th>workclass</th>\n",
       "      <th>fnlwgt</th>\n",
       "      <th>education-num</th>\n",
       "      <th>marital-status</th>\n",
       "      <th>occupation</th>\n",
       "      <th>relationship</th>\n",
       "      <th>race</th>\n",
       "      <th>sex</th>\n",
       "      <th>capital-gain</th>\n",
       "      <th>capital-loss</th>\n",
       "      <th>hours-per-week</th>\n",
       "      <th>native-country</th>\n",
       "      <th>income</th>\n",
       "    </tr>\n",
       "  </thead>\n",
       "  <tbody>\n",
       "    <tr>\n",
       "      <th>0</th>\n",
       "      <td>0</td>\n",
       "      <td>7</td>\n",
       "      <td>0</td>\n",
       "      <td>13</td>\n",
       "      <td>2</td>\n",
       "      <td>10</td>\n",
       "      <td>0</td>\n",
       "      <td>1</td>\n",
       "      <td>1</td>\n",
       "      <td>0</td>\n",
       "      <td>0</td>\n",
       "      <td>1</td>\n",
       "      <td>19</td>\n",
       "      <td>1</td>\n",
       "    </tr>\n",
       "    <tr>\n",
       "      <th>1</th>\n",
       "      <td>0</td>\n",
       "      <td>4</td>\n",
       "      <td>0</td>\n",
       "      <td>11</td>\n",
       "      <td>2</td>\n",
       "      <td>1</td>\n",
       "      <td>5</td>\n",
       "      <td>1</td>\n",
       "      <td>0</td>\n",
       "      <td>0</td>\n",
       "      <td>0</td>\n",
       "      <td>1</td>\n",
       "      <td>19</td>\n",
       "      <td>0</td>\n",
       "    </tr>\n",
       "    <tr>\n",
       "      <th>2</th>\n",
       "      <td>1</td>\n",
       "      <td>4</td>\n",
       "      <td>0</td>\n",
       "      <td>13</td>\n",
       "      <td>2</td>\n",
       "      <td>4</td>\n",
       "      <td>0</td>\n",
       "      <td>1</td>\n",
       "      <td>1</td>\n",
       "      <td>0</td>\n",
       "      <td>0</td>\n",
       "      <td>1</td>\n",
       "      <td>19</td>\n",
       "      <td>1</td>\n",
       "    </tr>\n",
       "    <tr>\n",
       "      <th>3</th>\n",
       "      <td>1</td>\n",
       "      <td>5</td>\n",
       "      <td>0</td>\n",
       "      <td>14</td>\n",
       "      <td>3</td>\n",
       "      <td>12</td>\n",
       "      <td>1</td>\n",
       "      <td>1</td>\n",
       "      <td>1</td>\n",
       "      <td>0</td>\n",
       "      <td>0</td>\n",
       "      <td>1</td>\n",
       "      <td>19</td>\n",
       "      <td>0</td>\n",
       "    </tr>\n",
       "    <tr>\n",
       "      <th>4</th>\n",
       "      <td>0</td>\n",
       "      <td>6</td>\n",
       "      <td>0</td>\n",
       "      <td>13</td>\n",
       "      <td>4</td>\n",
       "      <td>10</td>\n",
       "      <td>3</td>\n",
       "      <td>1</td>\n",
       "      <td>1</td>\n",
       "      <td>0</td>\n",
       "      <td>0</td>\n",
       "      <td>0</td>\n",
       "      <td>19</td>\n",
       "      <td>0</td>\n",
       "    </tr>\n",
       "  </tbody>\n",
       "</table>\n",
       "</div>"
      ]
     },
     "metadata": {
      "application/vnd.databricks.v1+output": {
       "addedWidgets": {},
       "arguments": {},
       "data": "<div>\n<style scoped>\n    .dataframe tbody tr th:only-of-type {\n        vertical-align: middle;\n    }\n\n    .dataframe tbody tr th {\n        vertical-align: top;\n    }\n\n    .dataframe thead th {\n        text-align: right;\n    }\n</style>\n<table border=\"1\" class=\"dataframe\">\n  <thead>\n    <tr style=\"text-align: right;\">\n      <th></th>\n      <th>age</th>\n      <th>workclass</th>\n      <th>fnlwgt</th>\n      <th>education-num</th>\n      <th>marital-status</th>\n      <th>occupation</th>\n      <th>relationship</th>\n      <th>race</th>\n      <th>sex</th>\n      <th>capital-gain</th>\n      <th>capital-loss</th>\n      <th>hours-per-week</th>\n      <th>native-country</th>\n      <th>income</th>\n    </tr>\n  </thead>\n  <tbody>\n    <tr>\n      <th>0</th>\n      <td>0</td>\n      <td>7</td>\n      <td>0</td>\n      <td>13</td>\n      <td>2</td>\n      <td>10</td>\n      <td>0</td>\n      <td>1</td>\n      <td>1</td>\n      <td>0</td>\n      <td>0</td>\n      <td>1</td>\n      <td>19</td>\n      <td>1</td>\n    </tr>\n    <tr>\n      <th>1</th>\n      <td>0</td>\n      <td>4</td>\n      <td>0</td>\n      <td>11</td>\n      <td>2</td>\n      <td>1</td>\n      <td>5</td>\n      <td>1</td>\n      <td>0</td>\n      <td>0</td>\n      <td>0</td>\n      <td>1</td>\n      <td>19</td>\n      <td>0</td>\n    </tr>\n    <tr>\n      <th>2</th>\n      <td>1</td>\n      <td>4</td>\n      <td>0</td>\n      <td>13</td>\n      <td>2</td>\n      <td>4</td>\n      <td>0</td>\n      <td>1</td>\n      <td>1</td>\n      <td>0</td>\n      <td>0</td>\n      <td>1</td>\n      <td>19</td>\n      <td>1</td>\n    </tr>\n    <tr>\n      <th>3</th>\n      <td>1</td>\n      <td>5</td>\n      <td>0</td>\n      <td>14</td>\n      <td>3</td>\n      <td>12</td>\n      <td>1</td>\n      <td>1</td>\n      <td>1</td>\n      <td>0</td>\n      <td>0</td>\n      <td>1</td>\n      <td>19</td>\n      <td>0</td>\n    </tr>\n    <tr>\n      <th>4</th>\n      <td>0</td>\n      <td>6</td>\n      <td>0</td>\n      <td>13</td>\n      <td>4</td>\n      <td>10</td>\n      <td>3</td>\n      <td>1</td>\n      <td>1</td>\n      <td>0</td>\n      <td>0</td>\n      <td>0</td>\n      <td>19</td>\n      <td>0</td>\n    </tr>\n  </tbody>\n</table>\n</div>",
       "datasetInfos": [],
       "metadata": {},
       "removedWidgets": [],
       "textData": null,
       "type": "htmlSandbox"
      }
     },
     "output_type": "display_data"
    }
   ],
   "source": [
    "in_df = pd.concat([in_data,in_syn_data],ignore_index=True)\n",
    "print(in_df.shape)\n",
    "in_df.head()"
   ]
  },
  {
   "cell_type": "code",
   "execution_count": 0,
   "metadata": {
    "application/vnd.databricks.v1+cell": {
     "cellMetadata": {
      "byteLimit": 2048000,
      "rowLimit": 10000
     },
     "inputWidgets": {},
     "nuid": "6f5c032a-42ee-4ee3-a8f5-eda244bdace2",
     "showTitle": false,
     "tableResultSettingsMap": {},
     "title": ""
    }
   },
   "outputs": [],
   "source": [
    "x = in_df.drop('income',axis=1)\n",
    "y = in_df['income']\n",
    "xtrain, xtest, ytrain, ytest = train_test_split(x,y,train_size=0.75,random_state=42)"
   ]
  },
  {
   "cell_type": "code",
   "execution_count": 0,
   "metadata": {
    "application/vnd.databricks.v1+cell": {
     "cellMetadata": {
      "byteLimit": 2048000,
      "rowLimit": 10000
     },
     "inputWidgets": {},
     "nuid": "802e5c7c-38c5-4a15-83a1-810a11e45f29",
     "showTitle": false,
     "tableResultSettingsMap": {},
     "title": ""
    }
   },
   "outputs": [
    {
     "output_type": "stream",
     "name": "stdout",
     "output_type": "stream",
     "text": [
      "[LightGBM] [Info] Number of positive: 3235, number of negative: 4378\n[LightGBM] [Info] Auto-choosing row-wise multi-threading, the overhead of testing was 0.000990 seconds.\nYou can set `force_row_wise=true` to remove the overhead.\nAnd if memory is not enough, you can set `force_col_wise=true`.\n[LightGBM] [Info] Total Bins 67\n[LightGBM] [Info] Number of data points in the train set: 7613, number of used features: 12\n[LightGBM] [Info] [binary:BoostFromScore]: pavg=0.424931 -> initscore=-0.302563\n[LightGBM] [Info] Start training from score -0.302563\n"
     ]
    },
    {
     "output_type": "display_data",
     "data": {
      "text/html": [
       "<div>\n",
       "<style scoped>\n",
       "    .dataframe tbody tr th:only-of-type {\n",
       "        vertical-align: middle;\n",
       "    }\n",
       "\n",
       "    .dataframe tbody tr th {\n",
       "        vertical-align: top;\n",
       "    }\n",
       "\n",
       "    .dataframe thead th {\n",
       "        text-align: right;\n",
       "    }\n",
       "</style>\n",
       "<table border=\"1\" class=\"dataframe\">\n",
       "  <thead>\n",
       "    <tr style=\"text-align: right;\">\n",
       "      <th></th>\n",
       "      <th>Value</th>\n",
       "      <th>Feature</th>\n",
       "    </tr>\n",
       "  </thead>\n",
       "  <tbody>\n",
       "    <tr>\n",
       "      <th>5</th>\n",
       "      <td>687</td>\n",
       "      <td>occupation</td>\n",
       "    </tr>\n",
       "    <tr>\n",
       "      <th>3</th>\n",
       "      <td>581</td>\n",
       "      <td>education-num</td>\n",
       "    </tr>\n",
       "    <tr>\n",
       "      <th>4</th>\n",
       "      <td>320</td>\n",
       "      <td>marital-status</td>\n",
       "    </tr>\n",
       "    <tr>\n",
       "      <th>6</th>\n",
       "      <td>311</td>\n",
       "      <td>relationship</td>\n",
       "    </tr>\n",
       "    <tr>\n",
       "      <th>1</th>\n",
       "      <td>280</td>\n",
       "      <td>workclass</td>\n",
       "    </tr>\n",
       "    <tr>\n",
       "      <th>0</th>\n",
       "      <td>219</td>\n",
       "      <td>age</td>\n",
       "    </tr>\n",
       "    <tr>\n",
       "      <th>11</th>\n",
       "      <td>199</td>\n",
       "      <td>hours-per-week</td>\n",
       "    </tr>\n",
       "    <tr>\n",
       "      <th>7</th>\n",
       "      <td>171</td>\n",
       "      <td>race</td>\n",
       "    </tr>\n",
       "    <tr>\n",
       "      <th>10</th>\n",
       "      <td>97</td>\n",
       "      <td>capital-loss</td>\n",
       "    </tr>\n",
       "    <tr>\n",
       "      <th>8</th>\n",
       "      <td>70</td>\n",
       "      <td>sex</td>\n",
       "    </tr>\n",
       "    <tr>\n",
       "      <th>2</th>\n",
       "      <td>38</td>\n",
       "      <td>fnlwgt</td>\n",
       "    </tr>\n",
       "    <tr>\n",
       "      <th>9</th>\n",
       "      <td>27</td>\n",
       "      <td>capital-gain</td>\n",
       "    </tr>\n",
       "    <tr>\n",
       "      <th>12</th>\n",
       "      <td>0</td>\n",
       "      <td>native-country</td>\n",
       "    </tr>\n",
       "  </tbody>\n",
       "</table>\n",
       "</div>"
      ]
     },
     "metadata": {
      "application/vnd.databricks.v1+output": {
       "addedWidgets": {},
       "arguments": {},
       "data": "<div>\n<style scoped>\n    .dataframe tbody tr th:only-of-type {\n        vertical-align: middle;\n    }\n\n    .dataframe tbody tr th {\n        vertical-align: top;\n    }\n\n    .dataframe thead th {\n        text-align: right;\n    }\n</style>\n<table border=\"1\" class=\"dataframe\">\n  <thead>\n    <tr style=\"text-align: right;\">\n      <th></th>\n      <th>Value</th>\n      <th>Feature</th>\n    </tr>\n  </thead>\n  <tbody>\n    <tr>\n      <th>5</th>\n      <td>687</td>\n      <td>occupation</td>\n    </tr>\n    <tr>\n      <th>3</th>\n      <td>581</td>\n      <td>education-num</td>\n    </tr>\n    <tr>\n      <th>4</th>\n      <td>320</td>\n      <td>marital-status</td>\n    </tr>\n    <tr>\n      <th>6</th>\n      <td>311</td>\n      <td>relationship</td>\n    </tr>\n    <tr>\n      <th>1</th>\n      <td>280</td>\n      <td>workclass</td>\n    </tr>\n    <tr>\n      <th>0</th>\n      <td>219</td>\n      <td>age</td>\n    </tr>\n    <tr>\n      <th>11</th>\n      <td>199</td>\n      <td>hours-per-week</td>\n    </tr>\n    <tr>\n      <th>7</th>\n      <td>171</td>\n      <td>race</td>\n    </tr>\n    <tr>\n      <th>10</th>\n      <td>97</td>\n      <td>capital-loss</td>\n    </tr>\n    <tr>\n      <th>8</th>\n      <td>70</td>\n      <td>sex</td>\n    </tr>\n    <tr>\n      <th>2</th>\n      <td>38</td>\n      <td>fnlwgt</td>\n    </tr>\n    <tr>\n      <th>9</th>\n      <td>27</td>\n      <td>capital-gain</td>\n    </tr>\n    <tr>\n      <th>12</th>\n      <td>0</td>\n      <td>native-country</td>\n    </tr>\n  </tbody>\n</table>\n</div>",
       "datasetInfos": [],
       "metadata": {},
       "removedWidgets": [],
       "textData": null,
       "type": "htmlSandbox"
      }
     },
     "output_type": "display_data"
    }
   ],
   "source": [
    "lgb = lightgbm.LGBMClassifier()\n",
    "lgb.fit(xtrain,ytrain)\n",
    "gen_feature_imp = pd.DataFrame({'Value':lgb.feature_importances_,'Feature':x.columns})\n",
    "gen_feature_imp = gen_feature_imp.sort_values(by='Value',ascending=False)\n",
    "gen_feature_imp"
   ]
  },
  {
   "cell_type": "code",
   "execution_count": 0,
   "metadata": {
    "application/vnd.databricks.v1+cell": {
     "cellMetadata": {
      "byteLimit": 2048000,
      "rowLimit": 10000
     },
     "inputWidgets": {},
     "nuid": "a9afa67d-6485-4b7f-9535-1be823beaf28",
     "showTitle": false,
     "tableResultSettingsMap": {},
     "title": ""
    }
   },
   "outputs": [
    {
     "output_type": "stream",
     "name": "stdout",
     "output_type": "stream",
     "text": [
      "(2538, 17)\n"
     ]
    },
    {
     "output_type": "display_data",
     "data": {
      "text/html": [
       "<div>\n",
       "<style scoped>\n",
       "    .dataframe tbody tr th:only-of-type {\n",
       "        vertical-align: middle;\n",
       "    }\n",
       "\n",
       "    .dataframe tbody tr th {\n",
       "        vertical-align: top;\n",
       "    }\n",
       "\n",
       "    .dataframe thead th {\n",
       "        text-align: right;\n",
       "    }\n",
       "</style>\n",
       "<table border=\"1\" class=\"dataframe\">\n",
       "  <thead>\n",
       "    <tr style=\"text-align: right;\">\n",
       "      <th></th>\n",
       "      <th>age</th>\n",
       "      <th>workclass</th>\n",
       "      <th>fnlwgt</th>\n",
       "      <th>education-num</th>\n",
       "      <th>marital-status</th>\n",
       "      <th>occupation</th>\n",
       "      <th>relationship</th>\n",
       "      <th>race</th>\n",
       "      <th>sex</th>\n",
       "      <th>capital-gain</th>\n",
       "      <th>capital-loss</th>\n",
       "      <th>hours-per-week</th>\n",
       "      <th>native-country</th>\n",
       "      <th>income</th>\n",
       "      <th>p_&lt;=50k</th>\n",
       "      <th>p_&gt;50k</th>\n",
       "      <th>predicted_income</th>\n",
       "    </tr>\n",
       "  </thead>\n",
       "  <tbody>\n",
       "    <tr>\n",
       "      <th>621</th>\n",
       "      <td>1</td>\n",
       "      <td>4</td>\n",
       "      <td>0</td>\n",
       "      <td>16</td>\n",
       "      <td>3</td>\n",
       "      <td>4</td>\n",
       "      <td>1</td>\n",
       "      <td>1</td>\n",
       "      <td>1</td>\n",
       "      <td>0</td>\n",
       "      <td>0</td>\n",
       "      <td>1</td>\n",
       "      <td>19</td>\n",
       "      <td>0</td>\n",
       "      <td>0.652905</td>\n",
       "      <td>0.347095</td>\n",
       "      <td>0</td>\n",
       "    </tr>\n",
       "    <tr>\n",
       "      <th>4404</th>\n",
       "      <td>2</td>\n",
       "      <td>4</td>\n",
       "      <td>0</td>\n",
       "      <td>13</td>\n",
       "      <td>2</td>\n",
       "      <td>4</td>\n",
       "      <td>0</td>\n",
       "      <td>1</td>\n",
       "      <td>1</td>\n",
       "      <td>0</td>\n",
       "      <td>0</td>\n",
       "      <td>1</td>\n",
       "      <td>19</td>\n",
       "      <td>0</td>\n",
       "      <td>0.259771</td>\n",
       "      <td>0.740229</td>\n",
       "      <td>1</td>\n",
       "    </tr>\n",
       "    <tr>\n",
       "      <th>6795</th>\n",
       "      <td>0</td>\n",
       "      <td>4</td>\n",
       "      <td>1</td>\n",
       "      <td>10</td>\n",
       "      <td>2</td>\n",
       "      <td>12</td>\n",
       "      <td>0</td>\n",
       "      <td>1</td>\n",
       "      <td>1</td>\n",
       "      <td>0</td>\n",
       "      <td>0</td>\n",
       "      <td>1</td>\n",
       "      <td>19</td>\n",
       "      <td>0</td>\n",
       "      <td>0.828721</td>\n",
       "      <td>0.171279</td>\n",
       "      <td>0</td>\n",
       "    </tr>\n",
       "    <tr>\n",
       "      <th>4607</th>\n",
       "      <td>1</td>\n",
       "      <td>7</td>\n",
       "      <td>0</td>\n",
       "      <td>15</td>\n",
       "      <td>2</td>\n",
       "      <td>10</td>\n",
       "      <td>0</td>\n",
       "      <td>1</td>\n",
       "      <td>1</td>\n",
       "      <td>0</td>\n",
       "      <td>1</td>\n",
       "      <td>1</td>\n",
       "      <td>19</td>\n",
       "      <td>1</td>\n",
       "      <td>0.020457</td>\n",
       "      <td>0.979543</td>\n",
       "      <td>1</td>\n",
       "    </tr>\n",
       "    <tr>\n",
       "      <th>8165</th>\n",
       "      <td>0</td>\n",
       "      <td>7</td>\n",
       "      <td>0</td>\n",
       "      <td>10</td>\n",
       "      <td>5</td>\n",
       "      <td>7</td>\n",
       "      <td>1</td>\n",
       "      <td>3</td>\n",
       "      <td>1</td>\n",
       "      <td>0</td>\n",
       "      <td>0</td>\n",
       "      <td>0</td>\n",
       "      <td>19</td>\n",
       "      <td>0</td>\n",
       "      <td>0.987351</td>\n",
       "      <td>0.012649</td>\n",
       "      <td>0</td>\n",
       "    </tr>\n",
       "  </tbody>\n",
       "</table>\n",
       "</div>"
      ]
     },
     "metadata": {
      "application/vnd.databricks.v1+output": {
       "addedWidgets": {},
       "arguments": {},
       "data": "<div>\n<style scoped>\n    .dataframe tbody tr th:only-of-type {\n        vertical-align: middle;\n    }\n\n    .dataframe tbody tr th {\n        vertical-align: top;\n    }\n\n    .dataframe thead th {\n        text-align: right;\n    }\n</style>\n<table border=\"1\" class=\"dataframe\">\n  <thead>\n    <tr style=\"text-align: right;\">\n      <th></th>\n      <th>age</th>\n      <th>workclass</th>\n      <th>fnlwgt</th>\n      <th>education-num</th>\n      <th>marital-status</th>\n      <th>occupation</th>\n      <th>relationship</th>\n      <th>race</th>\n      <th>sex</th>\n      <th>capital-gain</th>\n      <th>capital-loss</th>\n      <th>hours-per-week</th>\n      <th>native-country</th>\n      <th>income</th>\n      <th>p_&lt;=50k</th>\n      <th>p_&gt;50k</th>\n      <th>predicted_income</th>\n    </tr>\n  </thead>\n  <tbody>\n    <tr>\n      <th>621</th>\n      <td>1</td>\n      <td>4</td>\n      <td>0</td>\n      <td>16</td>\n      <td>3</td>\n      <td>4</td>\n      <td>1</td>\n      <td>1</td>\n      <td>1</td>\n      <td>0</td>\n      <td>0</td>\n      <td>1</td>\n      <td>19</td>\n      <td>0</td>\n      <td>0.652905</td>\n      <td>0.347095</td>\n      <td>0</td>\n    </tr>\n    <tr>\n      <th>4404</th>\n      <td>2</td>\n      <td>4</td>\n      <td>0</td>\n      <td>13</td>\n      <td>2</td>\n      <td>4</td>\n      <td>0</td>\n      <td>1</td>\n      <td>1</td>\n      <td>0</td>\n      <td>0</td>\n      <td>1</td>\n      <td>19</td>\n      <td>0</td>\n      <td>0.259771</td>\n      <td>0.740229</td>\n      <td>1</td>\n    </tr>\n    <tr>\n      <th>6795</th>\n      <td>0</td>\n      <td>4</td>\n      <td>1</td>\n      <td>10</td>\n      <td>2</td>\n      <td>12</td>\n      <td>0</td>\n      <td>1</td>\n      <td>1</td>\n      <td>0</td>\n      <td>0</td>\n      <td>1</td>\n      <td>19</td>\n      <td>0</td>\n      <td>0.828721</td>\n      <td>0.171279</td>\n      <td>0</td>\n    </tr>\n    <tr>\n      <th>4607</th>\n      <td>1</td>\n      <td>7</td>\n      <td>0</td>\n      <td>15</td>\n      <td>2</td>\n      <td>10</td>\n      <td>0</td>\n      <td>1</td>\n      <td>1</td>\n      <td>0</td>\n      <td>1</td>\n      <td>1</td>\n      <td>19</td>\n      <td>1</td>\n      <td>0.020457</td>\n      <td>0.979543</td>\n      <td>1</td>\n    </tr>\n    <tr>\n      <th>8165</th>\n      <td>0</td>\n      <td>7</td>\n      <td>0</td>\n      <td>10</td>\n      <td>5</td>\n      <td>7</td>\n      <td>1</td>\n      <td>3</td>\n      <td>1</td>\n      <td>0</td>\n      <td>0</td>\n      <td>0</td>\n      <td>19</td>\n      <td>0</td>\n      <td>0.987351</td>\n      <td>0.012649</td>\n      <td>0</td>\n    </tr>\n  </tbody>\n</table>\n</div>",
       "datasetInfos": [],
       "metadata": {},
       "removedWidgets": [],
       "textData": null,
       "type": "htmlSandbox"
      }
     },
     "output_type": "display_data"
    }
   ],
   "source": [
    "scores = xtest.copy()\n",
    "scores['income'] = ytest\n",
    "scores['p_<=50k'] = lgb.predict_proba(xtest)[:,0]\n",
    "scores['p_>50k'] = lgb.predict_proba(xtest)[:,1]\n",
    "scores['predicted_income'] = lgb.predict(xtest)\n",
    "print(scores.shape)\n",
    "scores.head()"
   ]
  },
  {
   "cell_type": "code",
   "execution_count": 0,
   "metadata": {
    "application/vnd.databricks.v1+cell": {
     "cellMetadata": {
      "byteLimit": 2048000,
      "rowLimit": 10000
     },
     "inputWidgets": {},
     "nuid": "d60ec8ea-bbde-45fc-b761-dc3813b3a0c0",
     "showTitle": false,
     "tableResultSettingsMap": {},
     "title": ""
    }
   },
   "outputs": [
    {
     "output_type": "stream",
     "name": "stdout",
     "output_type": "stream",
     "text": [
      "              precision    recall  f1-score   support\n\n           0       0.83      0.81      0.82      1455\n           1       0.76      0.78      0.77      1083\n\n    accuracy                           0.80      2538\n   macro avg       0.80      0.80      0.80      2538\nweighted avg       0.80      0.80      0.80      2538\n\n"
     ]
    }
   ],
   "source": [
    "print(classification_report(scores['income'],scores['predicted_income']))"
   ]
  },
  {
   "cell_type": "code",
   "execution_count": 0,
   "metadata": {
    "application/vnd.databricks.v1+cell": {
     "cellMetadata": {},
     "inputWidgets": {},
     "nuid": "af311fdf-d122-4dec-a959-1e820349d7ef",
     "showTitle": false,
     "tableResultSettingsMap": {},
     "title": ""
    }
   },
   "outputs": [],
   "source": []
  }
 ],
 "metadata": {
  "application/vnd.databricks.v1+notebook": {
   "computePreferences": null,
   "dashboards": [],
   "environmentMetadata": {
    "base_environment": "",
    "client": "1"
   },
   "language": "python",
   "notebookMetadata": {
    "pythonIndentUnit": 2
   },
   "notebookName": "Model Strategy Session",
   "widgets": {}
  }
 },
 "nbformat": 4,
 "nbformat_minor": 0
}
